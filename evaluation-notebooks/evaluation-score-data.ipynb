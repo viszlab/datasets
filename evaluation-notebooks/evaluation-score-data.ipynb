{
 "cells": [
  {
   "cell_type": "markdown",
   "metadata": {},
   "source": [
    "# Evaluation score data\n",
    "\n",
    "This notebooks calculates the average scores for the statements and plots a distribution graph of the scores by the participants. It uses an exported .csv from the survey from Qualtrics.\n",
    "\n",
    "* _Input:_ Exported .csv from Qualtrics\n",
    "* _Output:_ Static plots of the scores in .png format\n",
    "\n",
    "**Tasks:** \n",
    "* Calculate average, mean, variance per statement\n",
    "* Plots a distribution graph of all scores of all participants"
   ]
  },
  {
   "cell_type": "markdown",
   "metadata": {},
   "source": [
    "## Metadata\n",
    "\n",
    "* **Master**: Master Information Studies: Information Systems (track)\n",
    "* **University**: University of Amsterdam (UvA)\n",
    "* **Institute**: Informatics Institute\n",
    "* **Faculty**: Faculty of Science (FNWI)\n",
    "* **Research Group**: Digital Interactions Lab (DIL)\n",
    "* **Student**: BSc Danny de Vries (14495643)\n",
    "* **Supervisor**: Dr. H. (Hamed) Seiied Alavi PhD\n",
    "\n",
    "[Viszlab](https://www.viszlab.github.io) © 2024 by [Danny de Vries](https://wwww.github.com/dandevri) is licensed under [CC BY-NC-SA 4.0](http://creativecommons.org/licenses/by-nc-sa/4.0/?ref=chooser-v1)."
   ]
  },
  {
   "cell_type": "markdown",
   "metadata": {},
   "source": [
    "## Prequisites\n",
    "\n",
    "This notebooks needs a sufficient Python version (>=3.6) to run and requires some packages and libraries for analysis and visualization. The following code checks if your installed Python version is compatible, installs the necessary packages and imports the packages into the notebook."
   ]
  },
  {
   "cell_type": "markdown",
   "metadata": {},
   "source": [
    "### Check Python installation"
   ]
  },
  {
   "cell_type": "code",
   "execution_count": 1,
   "metadata": {},
   "outputs": [
    {
     "name": "stdout",
     "output_type": "stream",
     "text": [
      "Running a sufficiently new version of Python.\n",
      "Current version: 3.9.12\n",
      "Minimum required version: 3.8\n"
     ]
    }
   ],
   "source": [
    "from packaging import version\n",
    "import platform\n",
    "import sys\n",
    "\n",
    "min_version = '3.8'\n",
    "\n",
    "def check_version(min_version):\n",
    "    current_version = sys.version.split()[0]\n",
    "    return version.parse(current_version) >= version.parse(min_version)\n",
    "\n",
    "# Example usage:\n",
    "if __name__ == \"__main__\":\n",
    "    if check_version(min_version):\n",
    "        print(\"Running a sufficiently new version of Python.\")\n",
    "        print(\"Current version: \" + platform.python_version())\n",
    "        print(\"Minimum required version: \" + min_version)\n",
    "    else:\n",
    "        print(\"Python version is too old. Upgrade to a newer version.\")"
   ]
  },
  {
   "cell_type": "markdown",
   "metadata": {},
   "source": [
    "### Install the required packages"
   ]
  },
  {
   "cell_type": "code",
   "execution_count": 2,
   "metadata": {},
   "outputs": [
    {
     "name": "stdout",
     "output_type": "stream",
     "text": [
      "Requirement already satisfied: pandas in /Users/deckard/opt/anaconda3/lib/python3.9/site-packages (1.4.4)\n",
      "Requirement already satisfied: python-dateutil>=2.8.1 in /Users/deckard/opt/anaconda3/lib/python3.9/site-packages (from pandas) (2.8.2)\n",
      "Requirement already satisfied: pytz>=2020.1 in /Users/deckard/opt/anaconda3/lib/python3.9/site-packages (from pandas) (2022.1)\n",
      "Requirement already satisfied: numpy>=1.18.5 in /Users/deckard/opt/anaconda3/lib/python3.9/site-packages (from pandas) (1.21.5)\n",
      "Requirement already satisfied: six>=1.5 in /Users/deckard/opt/anaconda3/lib/python3.9/site-packages (from python-dateutil>=2.8.1->pandas) (1.16.0)\n",
      "Requirement already satisfied: seaborn in /Users/deckard/opt/anaconda3/lib/python3.9/site-packages (0.11.2)\n",
      "Requirement already satisfied: scipy>=1.0 in /Users/deckard/opt/anaconda3/lib/python3.9/site-packages (from seaborn) (1.9.1)\n",
      "Requirement already satisfied: numpy>=1.15 in /Users/deckard/opt/anaconda3/lib/python3.9/site-packages (from seaborn) (1.21.5)\n",
      "Requirement already satisfied: matplotlib>=2.2 in /Users/deckard/opt/anaconda3/lib/python3.9/site-packages (from seaborn) (3.5.2)\n",
      "Requirement already satisfied: pandas>=0.23 in /Users/deckard/opt/anaconda3/lib/python3.9/site-packages (from seaborn) (1.4.4)\n",
      "Requirement already satisfied: cycler>=0.10 in /Users/deckard/opt/anaconda3/lib/python3.9/site-packages (from matplotlib>=2.2->seaborn) (0.11.0)\n",
      "Requirement already satisfied: pillow>=6.2.0 in /Users/deckard/opt/anaconda3/lib/python3.9/site-packages (from matplotlib>=2.2->seaborn) (9.2.0)\n",
      "Requirement already satisfied: kiwisolver>=1.0.1 in /Users/deckard/opt/anaconda3/lib/python3.9/site-packages (from matplotlib>=2.2->seaborn) (1.4.2)\n",
      "Requirement already satisfied: fonttools>=4.22.0 in /Users/deckard/opt/anaconda3/lib/python3.9/site-packages (from matplotlib>=2.2->seaborn) (4.25.0)\n",
      "Requirement already satisfied: pyparsing>=2.2.1 in /Users/deckard/opt/anaconda3/lib/python3.9/site-packages (from matplotlib>=2.2->seaborn) (3.0.9)\n",
      "Requirement already satisfied: packaging>=20.0 in /Users/deckard/opt/anaconda3/lib/python3.9/site-packages (from matplotlib>=2.2->seaborn) (21.3)\n",
      "Requirement already satisfied: python-dateutil>=2.7 in /Users/deckard/opt/anaconda3/lib/python3.9/site-packages (from matplotlib>=2.2->seaborn) (2.8.2)\n",
      "Requirement already satisfied: pytz>=2020.1 in /Users/deckard/opt/anaconda3/lib/python3.9/site-packages (from pandas>=0.23->seaborn) (2022.1)\n",
      "Requirement already satisfied: six>=1.5 in /Users/deckard/opt/anaconda3/lib/python3.9/site-packages (from python-dateutil>=2.7->matplotlib>=2.2->seaborn) (1.16.0)\n",
      "Requirement already satisfied: matplotlib in /Users/deckard/opt/anaconda3/lib/python3.9/site-packages (3.5.2)\n",
      "Requirement already satisfied: packaging>=20.0 in /Users/deckard/opt/anaconda3/lib/python3.9/site-packages (from matplotlib) (21.3)\n",
      "Requirement already satisfied: pyparsing>=2.2.1 in /Users/deckard/opt/anaconda3/lib/python3.9/site-packages (from matplotlib) (3.0.9)\n",
      "Requirement already satisfied: kiwisolver>=1.0.1 in /Users/deckard/opt/anaconda3/lib/python3.9/site-packages (from matplotlib) (1.4.2)\n",
      "Requirement already satisfied: python-dateutil>=2.7 in /Users/deckard/opt/anaconda3/lib/python3.9/site-packages (from matplotlib) (2.8.2)\n",
      "Requirement already satisfied: cycler>=0.10 in /Users/deckard/opt/anaconda3/lib/python3.9/site-packages (from matplotlib) (0.11.0)\n",
      "Requirement already satisfied: numpy>=1.17 in /Users/deckard/opt/anaconda3/lib/python3.9/site-packages (from matplotlib) (1.21.5)\n",
      "Requirement already satisfied: pillow>=6.2.0 in /Users/deckard/opt/anaconda3/lib/python3.9/site-packages (from matplotlib) (9.2.0)\n",
      "Requirement already satisfied: fonttools>=4.22.0 in /Users/deckard/opt/anaconda3/lib/python3.9/site-packages (from matplotlib) (4.25.0)\n",
      "Requirement already satisfied: six>=1.5 in /Users/deckard/opt/anaconda3/lib/python3.9/site-packages (from python-dateutil>=2.7->matplotlib) (1.16.0)\n",
      "Requirement already satisfied: numpy in /Users/deckard/opt/anaconda3/lib/python3.9/site-packages (1.21.5)\n"
     ]
    }
   ],
   "source": [
    "!pip install pandas\n",
    "!pip install seaborn\n",
    "!pip install matplotlib\n",
    "!pip install numpy"
   ]
  },
  {
   "cell_type": "markdown",
   "metadata": {},
   "source": [
    "### Import the packages into the project"
   ]
  },
  {
   "cell_type": "code",
   "execution_count": 3,
   "metadata": {},
   "outputs": [],
   "source": [
    "import pandas\n",
    "import seaborn as sns\n",
    "import matplotlib.pyplot as plt\n",
    "import numpy as np\n",
    "import pandas as pd"
   ]
  },
  {
   "cell_type": "markdown",
   "metadata": {},
   "source": [
    "### Load the full CSV"
   ]
  },
  {
   "cell_type": "code",
   "execution_count": 12,
   "metadata": {},
   "outputs": [],
   "source": [
    "def import_csv(file):\n",
    "    df = pd.read_csv(file)\n",
    "    return df\n",
    "\n",
    "file = '../evaluation-data/evaluation-session-statements.csv'\n",
    "\n",
    "full_data = import_csv(file)"
   ]
  },
  {
   "cell_type": "markdown",
   "metadata": {},
   "source": [
    "### Filter the relevant columns, remove all others"
   ]
  },
  {
   "cell_type": "code",
   "execution_count": 29,
   "metadata": {},
   "outputs": [
    {
     "name": "stdout",
     "output_type": "stream",
     "text": [
      "  Participant   S1   S2   S3   S4   S5\n",
      "2          P1  4.0  3.0  4.0  3.0  4.0\n",
      "3          P2  4.0  2.0  4.0  4.0  4.0\n",
      "4          P3  5.0  2.0  4.0  4.0  5.0\n"
     ]
    }
   ],
   "source": [
    "def reformat_dataframe(df):\n",
    "    # Define the columns to keep\n",
    "    columns_to_keep = [\n",
    "        'Attitude towards_1',\n",
    "        'Perceived ease_1',\n",
    "        'Learnability of data_1',\n",
    "        'Perceived usefulness_1',\n",
    "        'Behavioural Intent_1'\n",
    "    ]\n",
    "    \n",
    "    # Filter the DataFrame to keep only the specified columns\n",
    "    filtered_data = df[columns_to_keep].copy()  # Make a copy to avoid SettingWithCopyWarning\n",
    "    \n",
    "    # Add a participant number column\n",
    "    filtered_data.insert(0, 'Participant', ['P' + str(i + -1) for i in range(len(filtered_data))])\n",
    "    \n",
    "    # Rename the columns to S1, S2, etc.\n",
    "    filtered_data.columns = ['Participant', 'S1', 'S2', 'S3', 'S4', 'S5']\n",
    "\n",
    "        # Map word choices to numbers\n",
    "    word_to_number = {'Strongly Disagree': 1, 'Disagree': 2, 'Neutral': 3, 'Agree': 4, 'Strongly Agree': 5}\n",
    "    for col in filtered_data.columns[1:]:\n",
    "        filtered_data[col] = filtered_data[col].map(word_to_number)\n",
    "\n",
    "        # Remove the first three rows\n",
    "    filtered_data = filtered_data.iloc[2:]\n",
    "    \n",
    "    return filtered_data\n",
    "\n",
    "\n",
    "reformatted_df = reformat_dataframe(full_data)\n",
    "\n",
    "# Display the reformatted DataFrame\n",
    "print(reformatted_df.head())"
   ]
  },
  {
   "cell_type": "markdown",
   "metadata": {},
   "source": [
    "### Calculating the average for each statement"
   ]
  },
  {
   "cell_type": "code",
   "execution_count": 30,
   "metadata": {},
   "outputs": [
    {
     "name": "stdout",
     "output_type": "stream",
     "text": [
      "Average Scores:\n",
      "S1    4.333333\n",
      "S2    2.333333\n",
      "S3    4.000000\n",
      "S4    3.666667\n",
      "S5    4.333333\n",
      "dtype: float64\n"
     ]
    }
   ],
   "source": [
    "# Calculate the average score for each statement, excluding the 'Participant' column\n",
    "average_scores = reformatted_df.drop(columns='Participant').mean()\n",
    "\n",
    "# Display the average scores\n",
    "print(\"Average Scores:\")\n",
    "print(average_scores)"
   ]
  },
  {
   "cell_type": "markdown",
   "metadata": {},
   "source": [
    "### Calculate the variance for each statement"
   ]
  },
  {
   "cell_type": "code",
   "execution_count": 32,
   "metadata": {},
   "outputs": [
    {
     "name": "stdout",
     "output_type": "stream",
     "text": [
      "Variance Scores:\n",
      "S1    0.333333\n",
      "S2    0.333333\n",
      "S3    0.000000\n",
      "S4    0.333333\n",
      "S5    0.333333\n",
      "dtype: float64\n"
     ]
    }
   ],
   "source": [
    "# Calculate the average score for each statement, excluding the 'Participant' column\n",
    "variance_scores = reformatted_df.drop(columns='Participant').var()\n",
    "\n",
    "# Display the variance scores\n",
    "print(\"Variance Scores:\")\n",
    "print(variance_scores)"
   ]
  },
  {
   "cell_type": "markdown",
   "metadata": {},
   "source": [
    "### Calculate average score for each participant"
   ]
  },
  {
   "cell_type": "code",
   "execution_count": 33,
   "metadata": {},
   "outputs": [
    {
     "name": "stdout",
     "output_type": "stream",
     "text": [
      "Average Scores per Participant:\n",
      "2    3.6\n",
      "3    3.6\n",
      "4    4.0\n",
      "dtype: float64\n"
     ]
    }
   ],
   "source": [
    "# Calculate the average score for each participant\n",
    "average_scores_per_participant = reformatted_df.drop(columns='Participant').mean(axis=1)\n",
    "\n",
    "# Display the average scores per participant\n",
    "print(\"Average Scores per Participant:\")\n",
    "print(average_scores_per_participant)"
   ]
  },
  {
   "cell_type": "markdown",
   "metadata": {},
   "source": [
    "### Calculate variance for each participant"
   ]
  },
  {
   "cell_type": "code",
   "execution_count": 34,
   "metadata": {},
   "outputs": [
    {
     "name": "stdout",
     "output_type": "stream",
     "text": [
      "Variance Scores per Participant:\n",
      "2    0.3\n",
      "3    0.8\n",
      "4    1.5\n",
      "dtype: float64\n"
     ]
    }
   ],
   "source": [
    "# Calculate the variance for each participant\n",
    "variance_scores_per_participant = reformatted_df.drop(columns='Participant').var(axis=1)\n",
    "\n",
    "# Display the variance scores per participant\n",
    "print(\"Variance Scores per Participant:\")\n",
    "print(variance_scores_per_participant)"
   ]
  },
  {
   "cell_type": "markdown",
   "metadata": {},
   "source": [
    "### Plot the scores per participant by statement"
   ]
  },
  {
   "cell_type": "code",
   "execution_count": 125,
   "metadata": {},
   "outputs": [
    {
     "data": {
      "image/png": "[encoded data removed]",
      "text/plain": [
       "<Figure size 1200x400 with 1 Axes>"
      ]
     },
     "metadata": {},
     "output_type": "display_data"
    }
   ],
   "source": [
    "# Set custom colors for each participant\n",
    "participant_colors = {\n",
    "    'P1': '#7168bc',\n",
    "    'P2': '#84b690',\n",
    "    'P3': '#d85c36',\n",
    "    'P4': '#e4ba3f',\n",
    "    'P5': '#53a7dc'\n",
    "}\n",
    "\n",
    "# Define statement labels\n",
    "statement_labels = {\n",
    "    's1': 'S1: Attitude towards using',\n",
    "    's2': 'S2: Perceived ease of use',\n",
    "    's3': 'S3: Learnability of data',\n",
    "    's4': 'S4: Perceived usefulness',\n",
    "    's5': 'S5: Behavioural intention'\n",
    "}\n",
    "\n",
    "# Set the figure size\n",
    "plt.figure(figsize=(12, 4))\n",
    "\n",
    "# Define the width of each bar\n",
    "bar_width = 0.15\n",
    "\n",
    "# Iterate over each participant\n",
    "for index, row in reformatted_df.iterrows():\n",
    "    # Extract participant number and scores\n",
    "    participant = row['Participant']\n",
    "    scores = row[1:]  # Exclude the 'Participant' column\n",
    "    \n",
    "    # Plot the bar chart for the participant with custom color\n",
    "    bars = plt.bar(np.arange(len(scores)) + (bar_width * index), scores, width=bar_width, label=participant, color=participant_colors.get(participant))\n",
    "    \n",
    "    # Add labels for each bar\n",
    "    for i, bar in enumerate(bars):\n",
    "        plt.text(bar.get_x() + bar.get_width() / 2, bar.get_height() - 0.4, str(scores[i]), fontsize=8, ha='center', va='bottom')\n",
    "\n",
    "# Set title and labels\n",
    "title = plt.title('Scores on each statement per participant'.upper(), fontweight=\"bold\" )\n",
    "title.set_position([.5, 0.6])  # Adjust the title position\n",
    "title.set_color('white')  # Set title text color to white\n",
    "title.set_bbox(dict(facecolor='black', edgecolor='black', boxstyle='round,pad=0.3'))  # Set title background color to black\n",
    "plt.xlabel('Statements (${numbered}$)')\n",
    "plt.ylabel('Score (${Likert}$)')\n",
    "\n",
    "# Set x-ticks and labels\n",
    "statement_names = ['s1', 's2', 's3', 's4', 's5']\n",
    "plt.xticks(np.arange(len(statement_names)) + (bar_width * (len(reformatted_df) + 3) / 2), [statement_labels[statement] for statement in statement_names], fontsize=8, ha='center')\n",
    "# Set y-ticks and labels\n",
    "y_ticks = ['Strongly Disagree', 'Disagree', 'Neutral', 'Agree', 'Strongly Agree']\n",
    "plt.yticks(np.arange(1, 6), y_ticks)\n",
    "\n",
    "# Add legend at bottom right\n",
    "plt.legend(loc='lower right')\n",
    "\n",
    "# Save the chart to disk\n",
    "plt.savefig('../evaluation-charts/statement-scores-per-statement.png', dpi=300, bbox_inches='tight')\n",
    "\n",
    "# Show the plot\n",
    "plt.show()\n"
   ]
  },
  {
   "cell_type": "markdown",
   "metadata": {},
   "source": [
    "### Plot the scores per participant"
   ]
  },
  {
   "cell_type": "code",
   "execution_count": 94,
   "metadata": {},
   "outputs": [
    {
     "data": {
      "image/png": "[encoded data removed]",
      "text/plain": [
       "<Figure size 1200x400 with 1 Axes>"
      ]
     },
     "metadata": {},
     "output_type": "display_data"
    }
   ],
   "source": [
    "# Set the figure size\n",
    "plt.figure(figsize=(12, 4))\n",
    "\n",
    "# Define the width of each bar\n",
    "bar_width = 0.15\n",
    "\n",
    "# Iterate over each statement\n",
    "for i, statement in enumerate(reformatted_df.columns[1:]):  # Exclude 'Participant' column\n",
    "    # Extract scores for the statement\n",
    "    scores = reformatted_df[statement]\n",
    "    \n",
    "    # Plot the bars for the statement\n",
    "    plt.bar(np.arange(len(reformatted_df)) + (bar_width * i), scores, width=bar_width, label=statement)\n",
    "    \n",
    "    # Add labels for each bar\n",
    "    for j, score in enumerate(scores):\n",
    "        plt.text(j + i * bar_width, score + -0.4, str(score), ha='center', va='bottom')\n",
    "\n",
    "# Add labels and title\n",
    "plt.xlabel('Participants (numbered)')\n",
    "plt.ylabel('Score (5-point likert-scale)')\n",
    "plt.title('Scores per participant on each statement')\n",
    "\n",
    "# Set x-ticks and labels\n",
    "plt.xticks(np.arange(len(reformatted_df)) + (bar_width * (len(reformatted_df.columns[1:]) - 1)) / 2, reformatted_df['Participant'])\n",
    "\n",
    "# Set y-ticks and labels\n",
    "y_ticks = ['Strongly Disagree', 'Disagree', 'Neutral', 'Agree', 'Strongly Agree']\n",
    "plt.yticks(np.arange(1, 6), y_ticks)\n",
    "\n",
    "# Add legend at bottom right\n",
    "plt.legend(loc='lower right')\n",
    "\n",
    "# Show the plot\n",
    "plt.show()"
   ]
  }
 ],
 "metadata": {
  "kernelspec": {
   "display_name": "Python 3",
   "language": "python",
   "name": "python3"
  },
  "language_info": {
   "codemirror_mode": {
    "name": "ipython",
    "version": 3
   },
   "file_extension": ".py",
   "mimetype": "text/x-python",
   "name": "python",
   "nbconvert_exporter": "python",
   "pygments_lexer": "ipython3",
   "version": "3.9.12"
  }
 },
 "nbformat": 4,
 "nbformat_minor": 2
}
