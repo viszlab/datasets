{
 "cells": [
  {
   "cell_type": "markdown",
   "metadata": {},
   "source": [
    "# Survey Likert Scales\n",
    "\n",
    "This notebooks visualizes the likert scales on IAQ awareness, perception and satisfaction.\n",
    "\n",
    "* _Input:_ Clean .csv from Qualtrics with likert scales\n",
    "* _Output:_ Plots graphs for each question, exports graphs as .jpg\n",
    "\n",
    "**Tasks:** \n",
    "* Plots a distribution of awareness as vertical stacked bar chart\n",
    "* Plots a distribution of perception as vertical stacked bar chart\n",
    "* Plots a distribution of satisfaction as vertical stacked bar chart\n",
    "* Plots a combination of the three as a horizontal stacked bar chart"
   ]
  },
  {
   "cell_type": "markdown",
   "metadata": {},
   "source": [
    "## Metadata\n",
    "\n",
    "* **Master**: Master Information Studies: Information Systems (track)\n",
    "* **University**: University of Amsterdam (UvA)\n",
    "* **Institute**: Informatics Institute\n",
    "* **Faculty**: Faculty of Science (FNWI)\n",
    "* **Research Group**: Digital Interactions Lab (DIL)\n",
    "* **Student**: BSc Danny de Vries (14495643)\n",
    "* **Supervisor**: Dr. H. (Hamed) Seiied Alavi PhD\n",
    "\n",
    "[Viszlab](https://www.viszlab.github.io) © 2024 by [Danny de Vries](https://wwww.github.com/dandevri) is licensed under [CC BY-NC-SA 4.0](http://creativecommons.org/licenses/by-nc-sa/4.0/?ref=chooser-v1)."
   ]
  },
  {
   "cell_type": "markdown",
   "metadata": {},
   "source": [
    "## Prequisites\n",
    "\n",
    "This notebooks needs a sufficient Python version (>=3.6) to run and requires some packages and libraries for analysis and visualization. The following code checks if your installed Python version is compatible, installs the necessary packages and imports the packages into the notebook."
   ]
  },
  {
   "cell_type": "markdown",
   "metadata": {},
   "source": [
    "### Check Python installation"
   ]
  },
  {
   "cell_type": "code",
   "execution_count": 1,
   "metadata": {},
   "outputs": [
    {
     "name": "stdout",
     "output_type": "stream",
     "text": [
      "Running a sufficiently new version of Python.\n",
      "Current version: 3.9.12\n",
      "Minimum required version: 3.8\n"
     ]
    }
   ],
   "source": [
    "from packaging import version\n",
    "import platform\n",
    "import sys\n",
    "\n",
    "min_version = '3.8'\n",
    "\n",
    "def check_version(min_version):\n",
    "    current_version = sys.version.split()[0]\n",
    "    return version.parse(current_version) >= version.parse(min_version)\n",
    "\n",
    "# Example usage:\n",
    "if __name__ == \"__main__\":\n",
    "    if check_version(min_version):\n",
    "        print(\"Running a sufficiently new version of Python.\")\n",
    "        print(\"Current version: \" + platform.python_version())\n",
    "        print(\"Minimum required version: \" + min_version)\n",
    "    else:\n",
    "        print(\"Python version is too old. Upgrade to a newer version.\")"
   ]
  },
  {
   "cell_type": "markdown",
   "metadata": {},
   "source": [
    "### Install the required packages"
   ]
  },
  {
   "cell_type": "code",
   "execution_count": 2,
   "metadata": {},
   "outputs": [
    {
     "name": "stdout",
     "output_type": "stream",
     "text": [
      "Requirement already satisfied: pandas in /Users/deckard/opt/anaconda3/lib/python3.9/site-packages (1.4.4)\n",
      "Requirement already satisfied: python-dateutil>=2.8.1 in /Users/deckard/opt/anaconda3/lib/python3.9/site-packages (from pandas) (2.8.2)\n",
      "Requirement already satisfied: pytz>=2020.1 in /Users/deckard/opt/anaconda3/lib/python3.9/site-packages (from pandas) (2022.1)\n",
      "Requirement already satisfied: numpy>=1.18.5 in /Users/deckard/opt/anaconda3/lib/python3.9/site-packages (from pandas) (1.21.5)\n",
      "Requirement already satisfied: six>=1.5 in /Users/deckard/opt/anaconda3/lib/python3.9/site-packages (from python-dateutil>=2.8.1->pandas) (1.16.0)\n",
      "Requirement already satisfied: seaborn in /Users/deckard/opt/anaconda3/lib/python3.9/site-packages (0.11.2)\n",
      "Requirement already satisfied: scipy>=1.0 in /Users/deckard/opt/anaconda3/lib/python3.9/site-packages (from seaborn) (1.9.1)\n",
      "Requirement already satisfied: numpy>=1.15 in /Users/deckard/opt/anaconda3/lib/python3.9/site-packages (from seaborn) (1.21.5)\n",
      "Requirement already satisfied: matplotlib>=2.2 in /Users/deckard/opt/anaconda3/lib/python3.9/site-packages (from seaborn) (3.5.2)\n",
      "Requirement already satisfied: pandas>=0.23 in /Users/deckard/opt/anaconda3/lib/python3.9/site-packages (from seaborn) (1.4.4)\n",
      "Requirement already satisfied: pyparsing>=2.2.1 in /Users/deckard/opt/anaconda3/lib/python3.9/site-packages (from matplotlib>=2.2->seaborn) (3.0.9)\n",
      "Requirement already satisfied: fonttools>=4.22.0 in /Users/deckard/opt/anaconda3/lib/python3.9/site-packages (from matplotlib>=2.2->seaborn) (4.25.0)\n",
      "Requirement already satisfied: cycler>=0.10 in /Users/deckard/opt/anaconda3/lib/python3.9/site-packages (from matplotlib>=2.2->seaborn) (0.11.0)\n",
      "Requirement already satisfied: python-dateutil>=2.7 in /Users/deckard/opt/anaconda3/lib/python3.9/site-packages (from matplotlib>=2.2->seaborn) (2.8.2)\n",
      "Requirement already satisfied: pillow>=6.2.0 in /Users/deckard/opt/anaconda3/lib/python3.9/site-packages (from matplotlib>=2.2->seaborn) (9.2.0)\n",
      "Requirement already satisfied: packaging>=20.0 in /Users/deckard/opt/anaconda3/lib/python3.9/site-packages (from matplotlib>=2.2->seaborn) (21.3)\n",
      "Requirement already satisfied: kiwisolver>=1.0.1 in /Users/deckard/opt/anaconda3/lib/python3.9/site-packages (from matplotlib>=2.2->seaborn) (1.4.2)\n",
      "Requirement already satisfied: pytz>=2020.1 in /Users/deckard/opt/anaconda3/lib/python3.9/site-packages (from pandas>=0.23->seaborn) (2022.1)\n",
      "Requirement already satisfied: six>=1.5 in /Users/deckard/opt/anaconda3/lib/python3.9/site-packages (from python-dateutil>=2.7->matplotlib>=2.2->seaborn) (1.16.0)\n",
      "Requirement already satisfied: matplotlib in /Users/deckard/opt/anaconda3/lib/python3.9/site-packages (3.5.2)\n",
      "Requirement already satisfied: numpy>=1.17 in /Users/deckard/opt/anaconda3/lib/python3.9/site-packages (from matplotlib) (1.21.5)\n",
      "Requirement already satisfied: cycler>=0.10 in /Users/deckard/opt/anaconda3/lib/python3.9/site-packages (from matplotlib) (0.11.0)\n",
      "Requirement already satisfied: pyparsing>=2.2.1 in /Users/deckard/opt/anaconda3/lib/python3.9/site-packages (from matplotlib) (3.0.9)\n",
      "Requirement already satisfied: packaging>=20.0 in /Users/deckard/opt/anaconda3/lib/python3.9/site-packages (from matplotlib) (21.3)\n",
      "Requirement already satisfied: kiwisolver>=1.0.1 in /Users/deckard/opt/anaconda3/lib/python3.9/site-packages (from matplotlib) (1.4.2)\n",
      "Requirement already satisfied: python-dateutil>=2.7 in /Users/deckard/opt/anaconda3/lib/python3.9/site-packages (from matplotlib) (2.8.2)\n",
      "Requirement already satisfied: pillow>=6.2.0 in /Users/deckard/opt/anaconda3/lib/python3.9/site-packages (from matplotlib) (9.2.0)\n",
      "Requirement already satisfied: fonttools>=4.22.0 in /Users/deckard/opt/anaconda3/lib/python3.9/site-packages (from matplotlib) (4.25.0)\n",
      "Requirement already satisfied: six>=1.5 in /Users/deckard/opt/anaconda3/lib/python3.9/site-packages (from python-dateutil>=2.7->matplotlib) (1.16.0)\n",
      "Requirement already satisfied: numpy in /Users/deckard/opt/anaconda3/lib/python3.9/site-packages (1.21.5)\n"
     ]
    }
   ],
   "source": [
    "!pip install pandas\n",
    "!pip install seaborn\n",
    "!pip install matplotlib\n",
    "!pip install numpy"
   ]
  },
  {
   "cell_type": "markdown",
   "metadata": {},
   "source": [
    "### Import the packages into the project"
   ]
  },
  {
   "cell_type": "code",
   "execution_count": 3,
   "metadata": {},
   "outputs": [],
   "source": [
    "# External libraries \n",
    "import pandas as pd\n",
    "import seaborn as sns\n",
    "import matplotlib.pyplot as plt\n",
    "import numpy as np\n",
    "import os"
   ]
  },
  {
   "cell_type": "markdown",
   "metadata": {},
   "source": [
    "### Load the clean csv"
   ]
  },
  {
   "cell_type": "code",
   "execution_count": 4,
   "metadata": {},
   "outputs": [
    {
     "name": "stdout",
     "output_type": "stream",
     "text": [
      "                                            Location       Activity  \\\n",
      "0  On the first floor (1st floor - in a working s...   1 day a week   \n",
      "1  On the first floor (1st floor - in a working s...  4 days a week   \n",
      "2  On the first floor (1st floor - in a working s...  4 days a week   \n",
      "3                   On the ground floor (the atrium)  2 days a week   \n",
      "4  On the first floor (1st floor - in a working s...   1 day a week   \n",
      "5                   On the ground floor (the atrium)  3 days a week   \n",
      "6  On the second floor (2th floor - in a working ...  5 days a week   \n",
      "7  On the second floor (2th floor - in a working ...  4 days a week   \n",
      "8  On the first floor (1st floor - in a working s...   1 day a week   \n",
      "\n",
      "         Occupancy Indoor Air Quality_1 Perceived_1  \\\n",
      "0      Not crowded              Neutral        Good   \n",
      "1          Crowded           Very aware        Poor   \n",
      "2  Not too crowded                Aware        Good   \n",
      "3  Not too crowded              Unaware        Good   \n",
      "4      Not crowded              Neutral        Good   \n",
      "5      Not crowded              Neutral        Good   \n",
      "6  Not too crowded                Aware        Good   \n",
      "7      Not crowded              Unaware        Good   \n",
      "8      Not crowded              Unaware  Acceptable   \n",
      "\n",
      "                       Satisfaction_1  \\\n",
      "0                           Satisfied   \n",
      "1                        Dissatisfied   \n",
      "2                           Satisfied   \n",
      "3                           Satisfied   \n",
      "4                           Satisfied   \n",
      "5                      Very satisfied   \n",
      "6                           Satisfied   \n",
      "7                      Very satisfied   \n",
      "8  Neither dissaitisfied or satisfied   \n",
      "\n",
      "                                         Description Symptons Symptons_5_TEXT  \\\n",
      "0                                                NaN     None             NaN   \n",
      "1                there needs to be more ventilation     Other     foggy brain   \n",
      "2                                                NaN      NaN             NaN   \n",
      "3                                                NaN     None             NaN   \n",
      "4                                                NaN     None             NaN   \n",
      "5  I feel like I’m this building the air quiality...     None             NaN   \n",
      "6                                                NaN     None             NaN   \n",
      "7  I think it is good, although I must say that t...     None             NaN   \n",
      "8  Its really cold in here so the air seems cold ...     None             NaN   \n",
      "\n",
      "            Cognitive             Cognitive_3_TEXT  \n",
      "0                None                          NaN  \n",
      "1  Trouble with focus                          NaN  \n",
      "2                 NaN                          NaN  \n",
      "3                None                          NaN  \n",
      "4                None                          NaN  \n",
      "5                None                          NaN  \n",
      "6                None                          NaN  \n",
      "7                None                          NaN  \n",
      "8               Other  I feel sick bcs of the cold  \n"
     ]
    }
   ],
   "source": [
    "def import_csv(file):\n",
    "    df = pd.read_csv(file)\n",
    "    return df\n",
    "\n",
    "file = 'survey-data/survey_data_clean.csv'\n",
    "\n",
    "full_data = import_csv(file)\n",
    "print(full_data)"
   ]
  },
  {
   "cell_type": "markdown",
   "metadata": {},
   "source": [
    "## Analysis of likert scales"
   ]
  },
  {
   "cell_type": "markdown",
   "metadata": {},
   "source": [
    "### Awareness\n",
    "**Q:** _Did you know that poor air quality have been identified to pose health risks and affect cognitive performance? How aware are you of the current air quality in this space?_"
   ]
  },
  {
   "cell_type": "code",
   "execution_count": 5,
   "metadata": {},
   "outputs": [
    {
     "data": {
      "image/png": "[encoded data removed]",
      "text/plain": [
       "<Figure size 300x400 with 1 Axes>"
      ]
     },
     "metadata": {},
     "output_type": "display_data"
    }
   ],
   "source": [
    "data = pd.read_csv(file)\n",
    "\n",
    "def extract_awareness_answers(df):\n",
    "    awareness_column = df['Indoor Air Quality_1']\n",
    "    awareness_df = pd.DataFrame(awareness_column)\n",
    "    return awareness_df\n",
    "\n",
    "awareness_df = extract_awareness_answers(data)\n",
    "\n",
    "# Count the occurrences of each category\n",
    "likert_counts = awareness_df['Indoor Air Quality_1'].value_counts()\n",
    "\n",
    "# Define the order of Likert categories\n",
    "likert_order = ['Very unaware', 'Unaware', 'Neutral', 'Aware', 'Very aware']\n",
    "\n",
    "# Sort the categories based on the defined order\n",
    "likert_counts = likert_counts.reindex(likert_order)\n",
    "\n",
    "# Create a DataFrame with zeros\n",
    "likert_data = pd.DataFrame(0, index=[0], columns=likert_counts.index)\n",
    "\n",
    "# Fill the DataFrame with counts\n",
    "for category, count in likert_counts.items():\n",
    "    likert_data[category] = count\n",
    "\n",
    "# Plot a stacked bar chart with custom colors and adjusted width\n",
    "fig, ax = plt.subplots(figsize=(3, 4))  # Adjust the width and height of the plot\n",
    "likert_data.plot(kind='bar', stacked=True,\n",
    "                 color=['lightcoral', 'indianred', 'orange', 'lightgreen', 'limegreen'], width=0.5, ax=ax)\n",
    "\n",
    "# Add labels and title\n",
    "ax.set_xlabel('Likert-scale')  # Empty string to remove x-axis label\n",
    "ax.set_ylabel('Count')\n",
    "ax.set_title('IAQ Awareness')\n",
    "\n",
    "# Remove the 0 label from the x-axis\n",
    "ax.set_xticklabels([])\n",
    "\n",
    "# Add a legend\n",
    "ax.legend(loc='upper left')\n",
    "\n",
    "# Adjust spacing around the plot\n",
    "plt.margins(x=0.01)\n",
    "\n",
    "# Show the plot\n",
    "plt.tight_layout()  # Adjust layout to make it less wide\n",
    "plt.show()\n"
   ]
  },
  {
   "cell_type": "markdown",
   "metadata": {},
   "source": [
    "## Percieved\n",
    "\n",
    "**Q:** _How do you perceive the air quality in the current space?_\n"
   ]
  },
  {
   "cell_type": "code",
   "execution_count": 6,
   "metadata": {},
   "outputs": [
    {
     "data": {
      "image/png": "[encoded data removed]",
      "text/plain": [
       "<Figure size 300x400 with 1 Axes>"
      ]
     },
     "metadata": {},
     "output_type": "display_data"
    }
   ],
   "source": [
    "data = pd.read_csv(file)\n",
    "\n",
    "def extract_Perceived_answers(df):\n",
    "    Perceived_column = df['Perceived_1']\n",
    "    Perceived_df = pd.DataFrame(Perceived_column)\n",
    "    return Perceived_df\n",
    "\n",
    "Perceived_df = extract_Perceived_answers(data)\n",
    "\n",
    "# Count the occurrences of each category\n",
    "likert_counts = Perceived_df['Perceived_1'].value_counts()\n",
    "\n",
    "# Define the order of Likert categories\n",
    "likert_order = ['Very poor', 'Poor', 'Acceptable', 'Good', 'Very good']\n",
    "\n",
    "# Sort the categories based on the defined order\n",
    "likert_counts = likert_counts.reindex(likert_order)\n",
    "\n",
    "# Create a DataFrame with zeros\n",
    "likert_data = pd.DataFrame(0, index=[0], columns=likert_counts.index)\n",
    "\n",
    "# Fill the DataFrame with counts\n",
    "for category, count in likert_counts.items():\n",
    "    likert_data[category] = count\n",
    "\n",
    "# Plot a stacked bar chart with custom colors and adjusted width\n",
    "fig, ax = plt.subplots(figsize=(3, 4))  # Adjust the width and height of the plot\n",
    "likert_data.plot(kind='bar', stacked=True,\n",
    "                 color=['lightcoral', 'indianred', 'orange', 'lightgreen', 'limegreen'], width=0.5, ax=ax)\n",
    "\n",
    "# Add labels and title\n",
    "ax.set_xlabel('Likert-scale')  # Empty string to remove x-axis label\n",
    "ax.set_ylabel('Count')\n",
    "ax.set_title('IAQ Perceived')\n",
    "\n",
    "# Remove the 0 label from the x-axis\n",
    "ax.set_xticklabels([])\n",
    "\n",
    "# Add a legend\n",
    "ax.legend(loc='upper left')\n",
    "\n",
    "# Adjust spacing around the plot\n",
    "plt.margins(x=0.01)\n",
    "\n",
    "# Show the plot\n",
    "plt.tight_layout()  # Adjust layout to make it less wide\n",
    "plt.show()\n"
   ]
  },
  {
   "cell_type": "markdown",
   "metadata": {},
   "source": [
    "## Satisfaction\n",
    "\n",
    "**Q:** _How satisfied are you with the air quality in the current space?_\n"
   ]
  },
  {
   "cell_type": "code",
   "execution_count": 7,
   "metadata": {},
   "outputs": [
    {
     "data": {
      "image/png": "[encoded data removed]",
      "text/plain": [
       "<Figure size 300x400 with 1 Axes>"
      ]
     },
     "metadata": {},
     "output_type": "display_data"
    }
   ],
   "source": [
    "data = pd.read_csv(file)\n",
    "\n",
    "def extract_Satisfaction_answers(df):\n",
    "    Satisfaction_column = df['Satisfaction_1']\n",
    "    Satisfaction_df = pd.DataFrame(Satisfaction_column)\n",
    "    return Satisfaction_df\n",
    "\n",
    "Satisfaction_df = extract_Satisfaction_answers(data)\n",
    "\n",
    "# Count the occurrences of each category\n",
    "likert_counts = Satisfaction_df['Satisfaction_1'].value_counts()\n",
    "\n",
    "# Define the order of Likert categories\n",
    "likert_order = ['Very dissatisfied', 'Dissatisfied', 'Neither disasttisfied', 'Satisfied', 'Very satisfied']\n",
    "\n",
    "# Sort the categories based on the defined order\n",
    "likert_counts = likert_counts.reindex(likert_order)\n",
    "\n",
    "# Create a DataFrame with zeros\n",
    "likert_data = pd.DataFrame(0, index=[0], columns=likert_counts.index)\n",
    "\n",
    "# Fill the DataFrame with counts\n",
    "for category, count in likert_counts.items():\n",
    "    likert_data[category] = count\n",
    "\n",
    "# Plot a stacked bar chart with custom colors and adjusted width\n",
    "fig, ax = plt.subplots(figsize=(3, 4))  # Adjust the width and height of the plot\n",
    "likert_data.plot(kind='bar', stacked=True,\n",
    "                 color=['lightcoral', 'indianred', 'orange', 'lightgreen', 'limegreen'], width=0.5, ax=ax)\n",
    "\n",
    "# Add labels and title\n",
    "ax.set_xlabel('Likert-scale')  # Empty string to remove x-axis label\n",
    "ax.set_ylabel('Count')\n",
    "ax.set_title('IAQ Satisfaction')\n",
    "\n",
    "# Remove the 0 label from the x-axis\n",
    "ax.set_xticklabels([])\n",
    "\n",
    "# Add a legend\n",
    "ax.legend(loc='upper left')\n",
    "\n",
    "# Adjust spacing around the plot\n",
    "plt.margins(x=0.01)\n",
    "\n",
    "# Show the plot\n",
    "plt.tight_layout()  # Adjust layout to make it less wide\n",
    "plt.show()\n"
   ]
  }
 ],
 "metadata": {
  "kernelspec": {
   "display_name": "Python 3",
   "language": "python",
   "name": "python3"
  },
  "language_info": {
   "codemirror_mode": {
    "name": "ipython",
    "version": 3
   },
   "file_extension": ".py",
   "mimetype": "text/x-python",
   "name": "python",
   "nbconvert_exporter": "python",
   "pygments_lexer": "ipython3",
   "version": "3.9.12"
  }
 },
 "nbformat": 4,
 "nbformat_minor": 2
}
