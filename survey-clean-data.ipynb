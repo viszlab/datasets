{
 "cells": [
  {
   "cell_type": "markdown",
   "metadata": {},
   "source": [
    "# Clean-up survey data\n",
    "\n",
    "This notebooks cleans up the survey questionnaire data. It uses an exported .csv from the survey from Qualtrics and outputs a 'clean' .csv file for further analysis.\n",
    "\n",
    "* _Input:_ Exported .csv from Qualtrics\n",
    "* _Output:_ Saves a 'clean' .csv to disk \n",
    "\n",
    "**Tasks:** \n",
    "* Removes non-consenting users\n",
    "* Removes non-finished responses\n",
    "* Removes irrelevant device and date metadata"
   ]
  },
  {
   "cell_type": "markdown",
   "metadata": {},
   "source": [
    "## Metadata\n",
    "\n",
    "* **Master**: Master Information Studies: Information Systems (track)\n",
    "* **University**: University of Amsterdam (UvA)\n",
    "* **Institute**: Informatics Institute\n",
    "* **Faculty**: Faculty of Science (FNWI)\n",
    "* **Research Group**: Digital Interactions Lab (DIL)\n",
    "* **Student**: BSc Danny de Vries (14495643)\n",
    "* **Supervisor**: Dr. H. (Hamed) Seiied Alavi PhD\n",
    "\n",
    "[Viszlab](https://www.viszlab.github.io) © 2024 by [Danny de Vries](https://wwww.github.com/dandevri) is licensed under [CC BY-NC-SA 4.0](http://creativecommons.org/licenses/by-nc-sa/4.0/?ref=chooser-v1)."
   ]
  },
  {
   "cell_type": "markdown",
   "metadata": {},
   "source": [
    "## Prequisites\n",
    "\n",
    "This notebooks needs a sufficient Python version (>=3.6) to run and requires some packages and libraries for analysis and visualization. The following code checks if your installed Python version is compatible, installs the necessary packages and imports the packages into the notebook."
   ]
  },
  {
   "cell_type": "markdown",
   "metadata": {},
   "source": [
    "### Check Python installation"
   ]
  },
  {
   "cell_type": "code",
   "execution_count": 50,
   "metadata": {},
   "outputs": [
    {
     "name": "stdout",
     "output_type": "stream",
     "text": [
      "Running a sufficiently new version of Python.\n",
      "Current version: 3.9.12\n",
      "Minimum required version: 3.8\n"
     ]
    }
   ],
   "source": [
    "from packaging import version\n",
    "import platform\n",
    "import sys\n",
    "\n",
    "min_version = '3.8'\n",
    "\n",
    "def check_version(min_version):\n",
    "    current_version = sys.version.split()[0]\n",
    "    return version.parse(current_version) >= version.parse(min_version)\n",
    "\n",
    "# Example usage:\n",
    "if __name__ == \"__main__\":\n",
    "    if check_version(min_version):\n",
    "        print(\"Running a sufficiently new version of Python.\")\n",
    "        print(\"Current version: \" + platform.python_version())\n",
    "        print(\"Minimum required version: \" + min_version)\n",
    "    else:\n",
    "        print(\"Python version is too old. Upgrade to a newer version.\")"
   ]
  },
  {
   "cell_type": "markdown",
   "metadata": {},
   "source": [
    "### Install the required packages"
   ]
  },
  {
   "cell_type": "code",
   "execution_count": 51,
   "metadata": {},
   "outputs": [
    {
     "name": "stdout",
     "output_type": "stream",
     "text": [
      "Requirement already satisfied: pandas in /Users/deckard/opt/anaconda3/lib/python3.9/site-packages (1.4.4)\n",
      "Requirement already satisfied: python-dateutil>=2.8.1 in /Users/deckard/opt/anaconda3/lib/python3.9/site-packages (from pandas) (2.8.2)\n",
      "Requirement already satisfied: pytz>=2020.1 in /Users/deckard/opt/anaconda3/lib/python3.9/site-packages (from pandas) (2022.1)\n",
      "Requirement already satisfied: numpy>=1.18.5 in /Users/deckard/opt/anaconda3/lib/python3.9/site-packages (from pandas) (1.21.5)\n",
      "Requirement already satisfied: six>=1.5 in /Users/deckard/opt/anaconda3/lib/python3.9/site-packages (from python-dateutil>=2.8.1->pandas) (1.16.0)\n",
      "Requirement already satisfied: seaborn in /Users/deckard/opt/anaconda3/lib/python3.9/site-packages (0.11.2)\n",
      "Requirement already satisfied: scipy>=1.0 in /Users/deckard/opt/anaconda3/lib/python3.9/site-packages (from seaborn) (1.9.1)\n",
      "Requirement already satisfied: matplotlib>=2.2 in /Users/deckard/opt/anaconda3/lib/python3.9/site-packages (from seaborn) (3.5.2)\n",
      "Requirement already satisfied: numpy>=1.15 in /Users/deckard/opt/anaconda3/lib/python3.9/site-packages (from seaborn) (1.21.5)\n",
      "Requirement already satisfied: pandas>=0.23 in /Users/deckard/opt/anaconda3/lib/python3.9/site-packages (from seaborn) (1.4.4)\n",
      "Requirement already satisfied: pyparsing>=2.2.1 in /Users/deckard/opt/anaconda3/lib/python3.9/site-packages (from matplotlib>=2.2->seaborn) (3.0.9)\n",
      "Requirement already satisfied: kiwisolver>=1.0.1 in /Users/deckard/opt/anaconda3/lib/python3.9/site-packages (from matplotlib>=2.2->seaborn) (1.4.2)\n",
      "Requirement already satisfied: python-dateutil>=2.7 in /Users/deckard/opt/anaconda3/lib/python3.9/site-packages (from matplotlib>=2.2->seaborn) (2.8.2)\n",
      "Requirement already satisfied: packaging>=20.0 in /Users/deckard/opt/anaconda3/lib/python3.9/site-packages (from matplotlib>=2.2->seaborn) (21.3)\n",
      "Requirement already satisfied: fonttools>=4.22.0 in /Users/deckard/opt/anaconda3/lib/python3.9/site-packages (from matplotlib>=2.2->seaborn) (4.25.0)\n",
      "Requirement already satisfied: pillow>=6.2.0 in /Users/deckard/opt/anaconda3/lib/python3.9/site-packages (from matplotlib>=2.2->seaborn) (9.2.0)\n",
      "Requirement already satisfied: cycler>=0.10 in /Users/deckard/opt/anaconda3/lib/python3.9/site-packages (from matplotlib>=2.2->seaborn) (0.11.0)\n",
      "Requirement already satisfied: pytz>=2020.1 in /Users/deckard/opt/anaconda3/lib/python3.9/site-packages (from pandas>=0.23->seaborn) (2022.1)\n",
      "Requirement already satisfied: six>=1.5 in /Users/deckard/opt/anaconda3/lib/python3.9/site-packages (from python-dateutil>=2.7->matplotlib>=2.2->seaborn) (1.16.0)\n",
      "Requirement already satisfied: matplotlib in /Users/deckard/opt/anaconda3/lib/python3.9/site-packages (3.5.2)\n",
      "Requirement already satisfied: kiwisolver>=1.0.1 in /Users/deckard/opt/anaconda3/lib/python3.9/site-packages (from matplotlib) (1.4.2)\n",
      "Requirement already satisfied: fonttools>=4.22.0 in /Users/deckard/opt/anaconda3/lib/python3.9/site-packages (from matplotlib) (4.25.0)\n",
      "Requirement already satisfied: pillow>=6.2.0 in /Users/deckard/opt/anaconda3/lib/python3.9/site-packages (from matplotlib) (9.2.0)\n",
      "Requirement already satisfied: packaging>=20.0 in /Users/deckard/opt/anaconda3/lib/python3.9/site-packages (from matplotlib) (21.3)\n",
      "Requirement already satisfied: cycler>=0.10 in /Users/deckard/opt/anaconda3/lib/python3.9/site-packages (from matplotlib) (0.11.0)\n",
      "Requirement already satisfied: numpy>=1.17 in /Users/deckard/opt/anaconda3/lib/python3.9/site-packages (from matplotlib) (1.21.5)\n",
      "Requirement already satisfied: python-dateutil>=2.7 in /Users/deckard/opt/anaconda3/lib/python3.9/site-packages (from matplotlib) (2.8.2)\n",
      "Requirement already satisfied: pyparsing>=2.2.1 in /Users/deckard/opt/anaconda3/lib/python3.9/site-packages (from matplotlib) (3.0.9)\n",
      "Requirement already satisfied: six>=1.5 in /Users/deckard/opt/anaconda3/lib/python3.9/site-packages (from python-dateutil>=2.7->matplotlib) (1.16.0)\n",
      "Requirement already satisfied: numpy in /Users/deckard/opt/anaconda3/lib/python3.9/site-packages (1.21.5)\n"
     ]
    }
   ],
   "source": [
    "!pip install pandas\n",
    "!pip install seaborn\n",
    "!pip install matplotlib\n",
    "!pip install numpy"
   ]
  },
  {
   "cell_type": "markdown",
   "metadata": {},
   "source": [
    "### Import the packages into the project"
   ]
  },
  {
   "cell_type": "code",
   "execution_count": 52,
   "metadata": {},
   "outputs": [],
   "source": [
    "import pandas\n",
    "import seaborn as sns\n",
    "import matplotlib.pyplot as plt\n",
    "import numpy as np\n",
    "import pandas as pd"
   ]
  },
  {
   "cell_type": "markdown",
   "metadata": {},
   "source": [
    "## Clean-up"
   ]
  },
  {
   "cell_type": "markdown",
   "metadata": {},
   "source": [
    "### Load the full CSV"
   ]
  },
  {
   "cell_type": "code",
   "execution_count": null,
   "metadata": {},
   "outputs": [],
   "source": [
    "def import_csv(file):\n",
    "    df = pd.read_csv(file)\n",
    "    return df\n",
    "\n",
    "file = 'survey-data/survey_data_raw.csv'\n",
    "\n",
    "full_data = import_csv(file)"
   ]
  },
  {
   "cell_type": "markdown",
   "metadata": {},
   "source": [
    "### Remove irrelevant rows\n",
    "\n",
    "Remove rows and metadata unecessary for research exported by qualtrics such as IP adress, import ID."
   ]
  },
  {
   "cell_type": "code",
   "execution_count": 54,
   "metadata": {},
   "outputs": [
    {
     "name": "stdout",
     "output_type": "stream",
     "text": [
      "Cleaned DataFrame:\n",
      "   Finished                                     Text / Graphic  \\\n",
      "0      True  Yes, I understand, and I agree to participate ...   \n",
      "1      True  Yes, I understand, and I agree to participate ...   \n",
      "2      True  Yes, I understand, and I agree to participate ...   \n",
      "3      True  Yes, I understand, and I agree to participate ...   \n",
      "4      True  Yes, I understand, and I agree to participate ...   \n",
      "5      True  Yes, I understand, and I agree to participate ...   \n",
      "6      True  Yes, I understand, and I agree to participate ...   \n",
      "7      True  Yes, I understand, and I agree to participate ...   \n",
      "8      True  Yes, I understand, and I agree to participate ...   \n",
      "\n",
      "                                            Location       Activity  \\\n",
      "0  On the first floor (1st floor - in a working s...   1 day a week   \n",
      "1  On the first floor (1st floor - in a working s...  4 days a week   \n",
      "2  On the first floor (1st floor - in a working s...  4 days a week   \n",
      "3                   On the ground floor (the atrium)  2 days a week   \n",
      "4  On the first floor (1st floor - in a working s...   1 day a week   \n",
      "5                   On the ground floor (the atrium)  3 days a week   \n",
      "6  On the second floor (2th floor - in a working ...  5 days a week   \n",
      "7  On the second floor (2th floor - in a working ...  4 days a week   \n",
      "8  On the first floor (1st floor - in a working s...   1 day a week   \n",
      "\n",
      "         Occupancy Indoor Air Quality_1 Perceived_1  \\\n",
      "0      Not crowded              Neutral        Good   \n",
      "1          Crowded           Very aware        Poor   \n",
      "2  Not too crowded                Aware        Good   \n",
      "3  Not too crowded              Unaware        Good   \n",
      "4      Not crowded              Neutral        Good   \n",
      "5      Not crowded              Neutral        Good   \n",
      "6  Not too crowded                Aware        Good   \n",
      "7      Not crowded              Unaware        Good   \n",
      "8      Not crowded              Unaware  Acceptable   \n",
      "\n",
      "                       Satisfaction_1  \\\n",
      "0                           Satisfied   \n",
      "1                        Dissatisfied   \n",
      "2                           Satisfied   \n",
      "3                           Satisfied   \n",
      "4                           Satisfied   \n",
      "5                      Very satisfied   \n",
      "6                           Satisfied   \n",
      "7                      Very satisfied   \n",
      "8  Neither dissaitisfied or satisfied   \n",
      "\n",
      "                                         Description Symptons Symptons_5_TEXT  \\\n",
      "0                                                NaN     None             NaN   \n",
      "1                there needs to be more ventilation     Other     foggy brain   \n",
      "2                                                NaN      NaN             NaN   \n",
      "3                                                NaN     None             NaN   \n",
      "4                                                NaN     None             NaN   \n",
      "5  I feel like I’m this building the air quiality...     None             NaN   \n",
      "6                                                NaN     None             NaN   \n",
      "7  I think it is good, although I must say that t...     None             NaN   \n",
      "8  Its really cold in here so the air seems cold ...     None             NaN   \n",
      "\n",
      "            Cognitive             Cognitive_3_TEXT  \n",
      "0                None                          NaN  \n",
      "1  Trouble with focus                          NaN  \n",
      "2                 NaN                          NaN  \n",
      "3                None                          NaN  \n",
      "4                None                          NaN  \n",
      "5                None                          NaN  \n",
      "6                None                          NaN  \n",
      "7                None                          NaN  \n",
      "8               Other  I feel sick bcs of the cold  \n",
      "   Finished                                     Text / Graphic  \\\n",
      "0      True  Yes, I understand, and I agree to participate ...   \n",
      "1      True  Yes, I understand, and I agree to participate ...   \n",
      "2      True  Yes, I understand, and I agree to participate ...   \n",
      "3      True  Yes, I understand, and I agree to participate ...   \n",
      "4      True  Yes, I understand, and I agree to participate ...   \n",
      "5      True  Yes, I understand, and I agree to participate ...   \n",
      "6      True  Yes, I understand, and I agree to participate ...   \n",
      "7      True  Yes, I understand, and I agree to participate ...   \n",
      "8      True  Yes, I understand, and I agree to participate ...   \n",
      "\n",
      "                                            Location       Activity  \\\n",
      "0  On the first floor (1st floor - in a working s...   1 day a week   \n",
      "1  On the first floor (1st floor - in a working s...  4 days a week   \n",
      "2  On the first floor (1st floor - in a working s...  4 days a week   \n",
      "3                   On the ground floor (the atrium)  2 days a week   \n",
      "4  On the first floor (1st floor - in a working s...   1 day a week   \n",
      "5                   On the ground floor (the atrium)  3 days a week   \n",
      "6  On the second floor (2th floor - in a working ...  5 days a week   \n",
      "7  On the second floor (2th floor - in a working ...  4 days a week   \n",
      "8  On the first floor (1st floor - in a working s...   1 day a week   \n",
      "\n",
      "         Occupancy Indoor Air Quality_1 Perceived_1  \\\n",
      "0      Not crowded              Neutral        Good   \n",
      "1          Crowded           Very aware        Poor   \n",
      "2  Not too crowded                Aware        Good   \n",
      "3  Not too crowded              Unaware        Good   \n",
      "4      Not crowded              Neutral        Good   \n",
      "5      Not crowded              Neutral        Good   \n",
      "6  Not too crowded                Aware        Good   \n",
      "7      Not crowded              Unaware        Good   \n",
      "8      Not crowded              Unaware  Acceptable   \n",
      "\n",
      "                       Satisfaction_1  \\\n",
      "0                           Satisfied   \n",
      "1                        Dissatisfied   \n",
      "2                           Satisfied   \n",
      "3                           Satisfied   \n",
      "4                           Satisfied   \n",
      "5                      Very satisfied   \n",
      "6                           Satisfied   \n",
      "7                      Very satisfied   \n",
      "8  Neither dissaitisfied or satisfied   \n",
      "\n",
      "                                         Description Symptons Symptons_5_TEXT  \\\n",
      "0                                                NaN     None             NaN   \n",
      "1                there needs to be more ventilation     Other     foggy brain   \n",
      "2                                                NaN      NaN             NaN   \n",
      "3                                                NaN     None             NaN   \n",
      "4                                                NaN     None             NaN   \n",
      "5  I feel like I’m this building the air quiality...     None             NaN   \n",
      "6                                                NaN     None             NaN   \n",
      "7  I think it is good, although I must say that t...     None             NaN   \n",
      "8  Its really cold in here so the air seems cold ...     None             NaN   \n",
      "\n",
      "            Cognitive             Cognitive_3_TEXT  \n",
      "0                None                          NaN  \n",
      "1  Trouble with focus                          NaN  \n",
      "2                 NaN                          NaN  \n",
      "3                None                          NaN  \n",
      "4                None                          NaN  \n",
      "5                None                          NaN  \n",
      "6                None                          NaN  \n",
      "7                None                          NaN  \n",
      "8               Other  I feel sick bcs of the cold  \n"
     ]
    }
   ],
   "source": [
    "data = pd.read_csv(file)\n",
    "\n",
    "def remove_metadata_columns(data):\n",
    "    # List of columns to remove\n",
    "    metadata_columns = [\n",
    "        'StartDate', 'EndDate', 'Status', 'IPAddress', 'Progress', \n",
    "        'Duration (in seconds)', 'RecordedDate', 'ResponseId', \n",
    "        'RecipientLastName', 'RecipientFirstName', 'RecipientEmail', \n",
    "        'ExternalReference', 'LocationLatitude', 'LocationLongitude', \n",
    "        'DistributionChannel', 'UserLanguage'\n",
    "    ]\n",
    "    \n",
    "    # Drop the metadata columns\n",
    "    data_cleaned = data.drop(columns=metadata_columns, errors='ignore')\n",
    "    \n",
    "    # Print the cleaned DataFrame\n",
    "    print(\"Cleaned DataFrame:\")\n",
    "    print(data_cleaned)\n",
    "    \n",
    "    return data_cleaned\n",
    "\n",
    "# Example usage\n",
    "cleaned_data = data_cleaned = remove_metadata_columns(data)\n",
    "print(cleaned_data);"
   ]
  },
  {
   "cell_type": "markdown",
   "metadata": {},
   "source": [
    "### Remove non consenting users"
   ]
  },
  {
   "cell_type": "code",
   "execution_count": 55,
   "metadata": {},
   "outputs": [
    {
     "name": "stdout",
     "output_type": "stream",
     "text": [
      "   Finished                                     Text / Graphic  \\\n",
      "0      True  Yes, I understand, and I agree to participate ...   \n",
      "1      True  Yes, I understand, and I agree to participate ...   \n",
      "2      True  Yes, I understand, and I agree to participate ...   \n",
      "3      True  Yes, I understand, and I agree to participate ...   \n",
      "4      True  Yes, I understand, and I agree to participate ...   \n",
      "5      True  Yes, I understand, and I agree to participate ...   \n",
      "6      True  Yes, I understand, and I agree to participate ...   \n",
      "7      True  Yes, I understand, and I agree to participate ...   \n",
      "8      True  Yes, I understand, and I agree to participate ...   \n",
      "\n",
      "                                            Location       Activity  \\\n",
      "0  On the first floor (1st floor - in a working s...   1 day a week   \n",
      "1  On the first floor (1st floor - in a working s...  4 days a week   \n",
      "2  On the first floor (1st floor - in a working s...  4 days a week   \n",
      "3                   On the ground floor (the atrium)  2 days a week   \n",
      "4  On the first floor (1st floor - in a working s...   1 day a week   \n",
      "5                   On the ground floor (the atrium)  3 days a week   \n",
      "6  On the second floor (2th floor - in a working ...  5 days a week   \n",
      "7  On the second floor (2th floor - in a working ...  4 days a week   \n",
      "8  On the first floor (1st floor - in a working s...   1 day a week   \n",
      "\n",
      "         Occupancy Indoor Air Quality_1 Perceived_1  \\\n",
      "0      Not crowded              Neutral        Good   \n",
      "1          Crowded           Very aware        Poor   \n",
      "2  Not too crowded                Aware        Good   \n",
      "3  Not too crowded              Unaware        Good   \n",
      "4      Not crowded              Neutral        Good   \n",
      "5      Not crowded              Neutral        Good   \n",
      "6  Not too crowded                Aware        Good   \n",
      "7      Not crowded              Unaware        Good   \n",
      "8      Not crowded              Unaware  Acceptable   \n",
      "\n",
      "                       Satisfaction_1  \\\n",
      "0                           Satisfied   \n",
      "1                        Dissatisfied   \n",
      "2                           Satisfied   \n",
      "3                           Satisfied   \n",
      "4                           Satisfied   \n",
      "5                      Very satisfied   \n",
      "6                           Satisfied   \n",
      "7                      Very satisfied   \n",
      "8  Neither dissaitisfied or satisfied   \n",
      "\n",
      "                                         Description Symptons Symptons_5_TEXT  \\\n",
      "0                                                NaN     None             NaN   \n",
      "1                there needs to be more ventilation     Other     foggy brain   \n",
      "2                                                NaN      NaN             NaN   \n",
      "3                                                NaN     None             NaN   \n",
      "4                                                NaN     None             NaN   \n",
      "5  I feel like I’m this building the air quiality...     None             NaN   \n",
      "6                                                NaN     None             NaN   \n",
      "7  I think it is good, although I must say that t...     None             NaN   \n",
      "8  Its really cold in here so the air seems cold ...     None             NaN   \n",
      "\n",
      "            Cognitive             Cognitive_3_TEXT  \n",
      "0                None                          NaN  \n",
      "1  Trouble with focus                          NaN  \n",
      "2                 NaN                          NaN  \n",
      "3                None                          NaN  \n",
      "4                None                          NaN  \n",
      "5                None                          NaN  \n",
      "6                None                          NaN  \n",
      "7                None                          NaN  \n",
      "8               Other  I feel sick bcs of the cold  \n"
     ]
    }
   ],
   "source": [
    "def remove_non_consenting_users(data):\n",
    "    data_cleaned = data[data['Text / Graphic'].str.contains('Yes, I understand, and I agree to participate in the survey')]\n",
    "    return data_cleaned\n",
    "\n",
    "data_cleaned = remove_non_consenting_users(cleaned_data)\n",
    "print(data_cleaned)"
   ]
  },
  {
   "cell_type": "markdown",
   "metadata": {},
   "source": [
    "### Remove non-finished surveys"
   ]
  },
  {
   "cell_type": "code",
   "execution_count": 56,
   "metadata": {},
   "outputs": [
    {
     "name": "stdout",
     "output_type": "stream",
     "text": [
      "   Finished                                     Text / Graphic  \\\n",
      "0      True  Yes, I understand, and I agree to participate ...   \n",
      "1      True  Yes, I understand, and I agree to participate ...   \n",
      "2      True  Yes, I understand, and I agree to participate ...   \n",
      "3      True  Yes, I understand, and I agree to participate ...   \n",
      "4      True  Yes, I understand, and I agree to participate ...   \n",
      "5      True  Yes, I understand, and I agree to participate ...   \n",
      "6      True  Yes, I understand, and I agree to participate ...   \n",
      "7      True  Yes, I understand, and I agree to participate ...   \n",
      "8      True  Yes, I understand, and I agree to participate ...   \n",
      "\n",
      "                                            Location       Activity  \\\n",
      "0  On the first floor (1st floor - in a working s...   1 day a week   \n",
      "1  On the first floor (1st floor - in a working s...  4 days a week   \n",
      "2  On the first floor (1st floor - in a working s...  4 days a week   \n",
      "3                   On the ground floor (the atrium)  2 days a week   \n",
      "4  On the first floor (1st floor - in a working s...   1 day a week   \n",
      "5                   On the ground floor (the atrium)  3 days a week   \n",
      "6  On the second floor (2th floor - in a working ...  5 days a week   \n",
      "7  On the second floor (2th floor - in a working ...  4 days a week   \n",
      "8  On the first floor (1st floor - in a working s...   1 day a week   \n",
      "\n",
      "         Occupancy Indoor Air Quality_1 Perceived_1  \\\n",
      "0      Not crowded              Neutral        Good   \n",
      "1          Crowded           Very aware        Poor   \n",
      "2  Not too crowded                Aware        Good   \n",
      "3  Not too crowded              Unaware        Good   \n",
      "4      Not crowded              Neutral        Good   \n",
      "5      Not crowded              Neutral        Good   \n",
      "6  Not too crowded                Aware        Good   \n",
      "7      Not crowded              Unaware        Good   \n",
      "8      Not crowded              Unaware  Acceptable   \n",
      "\n",
      "                       Satisfaction_1  \\\n",
      "0                           Satisfied   \n",
      "1                        Dissatisfied   \n",
      "2                           Satisfied   \n",
      "3                           Satisfied   \n",
      "4                           Satisfied   \n",
      "5                      Very satisfied   \n",
      "6                           Satisfied   \n",
      "7                      Very satisfied   \n",
      "8  Neither dissaitisfied or satisfied   \n",
      "\n",
      "                                         Description Symptons Symptons_5_TEXT  \\\n",
      "0                                                NaN     None             NaN   \n",
      "1                there needs to be more ventilation     Other     foggy brain   \n",
      "2                                                NaN      NaN             NaN   \n",
      "3                                                NaN     None             NaN   \n",
      "4                                                NaN     None             NaN   \n",
      "5  I feel like I’m this building the air quiality...     None             NaN   \n",
      "6                                                NaN     None             NaN   \n",
      "7  I think it is good, although I must say that t...     None             NaN   \n",
      "8  Its really cold in here so the air seems cold ...     None             NaN   \n",
      "\n",
      "            Cognitive             Cognitive_3_TEXT  \n",
      "0                None                          NaN  \n",
      "1  Trouble with focus                          NaN  \n",
      "2                 NaN                          NaN  \n",
      "3                None                          NaN  \n",
      "4                None                          NaN  \n",
      "5                None                          NaN  \n",
      "6                None                          NaN  \n",
      "7                None                          NaN  \n",
      "8               Other  I feel sick bcs of the cold  \n"
     ]
    }
   ],
   "source": [
    "def remove_unfinished_surveys(data):\n",
    "    data = data[data['Finished'] == True]    \n",
    "    return data\n",
    "\n",
    "data_final = remove_unfinished_surveys(data_cleaned)\n",
    "print(data_final)"
   ]
  },
  {
   "cell_type": "markdown",
   "metadata": {},
   "source": [
    "### Remove consent and finished column"
   ]
  },
  {
   "cell_type": "code",
   "execution_count": 57,
   "metadata": {},
   "outputs": [
    {
     "name": "stdout",
     "output_type": "stream",
     "text": [
      "                                            Location       Activity  \\\n",
      "0  On the first floor (1st floor - in a working s...   1 day a week   \n",
      "1  On the first floor (1st floor - in a working s...  4 days a week   \n",
      "2  On the first floor (1st floor - in a working s...  4 days a week   \n",
      "3                   On the ground floor (the atrium)  2 days a week   \n",
      "4  On the first floor (1st floor - in a working s...   1 day a week   \n",
      "5                   On the ground floor (the atrium)  3 days a week   \n",
      "6  On the second floor (2th floor - in a working ...  5 days a week   \n",
      "7  On the second floor (2th floor - in a working ...  4 days a week   \n",
      "8  On the first floor (1st floor - in a working s...   1 day a week   \n",
      "\n",
      "         Occupancy Indoor Air Quality_1 Perceived_1  \\\n",
      "0      Not crowded              Neutral        Good   \n",
      "1          Crowded           Very aware        Poor   \n",
      "2  Not too crowded                Aware        Good   \n",
      "3  Not too crowded              Unaware        Good   \n",
      "4      Not crowded              Neutral        Good   \n",
      "5      Not crowded              Neutral        Good   \n",
      "6  Not too crowded                Aware        Good   \n",
      "7      Not crowded              Unaware        Good   \n",
      "8      Not crowded              Unaware  Acceptable   \n",
      "\n",
      "                       Satisfaction_1  \\\n",
      "0                           Satisfied   \n",
      "1                        Dissatisfied   \n",
      "2                           Satisfied   \n",
      "3                           Satisfied   \n",
      "4                           Satisfied   \n",
      "5                      Very satisfied   \n",
      "6                           Satisfied   \n",
      "7                      Very satisfied   \n",
      "8  Neither dissaitisfied or satisfied   \n",
      "\n",
      "                                         Description Symptons Symptons_5_TEXT  \\\n",
      "0                                                NaN     None             NaN   \n",
      "1                there needs to be more ventilation     Other     foggy brain   \n",
      "2                                                NaN      NaN             NaN   \n",
      "3                                                NaN     None             NaN   \n",
      "4                                                NaN     None             NaN   \n",
      "5  I feel like I’m this building the air quiality...     None             NaN   \n",
      "6                                                NaN     None             NaN   \n",
      "7  I think it is good, although I must say that t...     None             NaN   \n",
      "8  Its really cold in here so the air seems cold ...     None             NaN   \n",
      "\n",
      "            Cognitive             Cognitive_3_TEXT  \n",
      "0                None                          NaN  \n",
      "1  Trouble with focus                          NaN  \n",
      "2                 NaN                          NaN  \n",
      "3                None                          NaN  \n",
      "4                None                          NaN  \n",
      "5                None                          NaN  \n",
      "6                None                          NaN  \n",
      "7                None                          NaN  \n",
      "8               Other  I feel sick bcs of the cold  \n"
     ]
    }
   ],
   "source": [
    "def remove_columns(data):\n",
    "    data_cleaned = data.drop(columns=['Finished', 'Text / Graphic'])\n",
    "    return data_cleaned\n",
    "\n",
    "data_final_cleaned = remove_columns(data_final)\n",
    "print(data_final_cleaned)"
   ]
  },
  {
   "cell_type": "markdown",
   "metadata": {},
   "source": [
    "### Export the clean CSV to disk\n"
   ]
  },
  {
   "cell_type": "code",
   "execution_count": 58,
   "metadata": {},
   "outputs": [],
   "source": [
    "def export_to_csv(data, filename):\n",
    "    data.to_csv(filename, index=False)\n",
    "\n",
    "export_to_csv(data_final_cleaned, 'survey-data/survey_data_clean.csv')"
   ]
  }
 ],
 "metadata": {
  "kernelspec": {
   "display_name": "Python 3",
   "language": "python",
   "name": "python3"
  },
  "language_info": {
   "codemirror_mode": {
    "name": "ipython",
    "version": 3
   },
   "file_extension": ".py",
   "mimetype": "text/x-python",
   "name": "python",
   "nbconvert_exporter": "python",
   "pygments_lexer": "ipython3",
   "version": "3.9.12"
  }
 },
 "nbformat": 4,
 "nbformat_minor": 2
}
