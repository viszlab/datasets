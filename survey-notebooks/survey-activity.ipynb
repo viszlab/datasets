{
 "cells": [
  {
   "cell_type": "markdown",
   "metadata": {},
   "source": [
    "# Survey Activity\n",
    "\n",
    "This notebooks visualizes the location, activity and occupanncy information from the survey.\n",
    "\n",
    "* _Input:_ Clean .csv from Qualtrics with location, activity and occupancy questions\n",
    "* _Output:_ Saves a .csv to disk, exports graphs as .jpg\n",
    "\n",
    "**Tasks:** \n",
    "* Plots a distribution of locations\n",
    "* Plots a distribution of activity days weekly\n",
    "* Plots the descriptions of occupancy in current space"
   ]
  },
  {
   "cell_type": "markdown",
   "metadata": {},
   "source": [
    "## Metadata\n",
    "\n",
    "* **Master**: Master Information Studies: Information Systems (track)\n",
    "* **University**: University of Amsterdam (UvA)\n",
    "* **Institute**: Informatics Institute\n",
    "* **Faculty**: Faculty of Science (FNWI)\n",
    "* **Research Group**: Digital Interactions Lab (DIL)\n",
    "* **Student**: BSc Danny de Vries (14495643)\n",
    "* **Supervisor**: Dr. H. (Hamed) Seiied Alavi PhD\n",
    "\n",
    "[Viszlab](https://www.viszlab.github.io) © 2024 by [Danny de Vries](https://wwww.github.com/dandevri) is licensed under [CC BY-NC-SA 4.0](http://creativecommons.org/licenses/by-nc-sa/4.0/?ref=chooser-v1)."
   ]
  },
  {
   "cell_type": "markdown",
   "metadata": {},
   "source": [
    "## Prequisites\n",
    "\n",
    "This notebooks needs a sufficient Python version (>=3.6) to run and requires some packages and libraries for analysis and visualization. The following code checks if your installed Python version is compatible, installs the necessary packages and imports the packages into the notebook."
   ]
  },
  {
   "cell_type": "markdown",
   "metadata": {},
   "source": [
    "### Check Python installation"
   ]
  },
  {
   "cell_type": "code",
   "execution_count": 1,
   "metadata": {},
   "outputs": [
    {
     "name": "stdout",
     "output_type": "stream",
     "text": [
      "Running a sufficiently new version of Python.\n",
      "Current version: 3.9.12\n",
      "Minimum required version: 3.8\n"
     ]
    }
   ],
   "source": [
    "from packaging import version\n",
    "import platform\n",
    "import sys\n",
    "\n",
    "min_version = '3.8'\n",
    "\n",
    "def check_version(min_version):\n",
    "    current_version = sys.version.split()[0]\n",
    "    return version.parse(current_version) >= version.parse(min_version)\n",
    "\n",
    "# Example usage:\n",
    "if __name__ == \"__main__\":\n",
    "    if check_version(min_version):\n",
    "        print(\"Running a sufficiently new version of Python.\")\n",
    "        print(\"Current version: \" + platform.python_version())\n",
    "        print(\"Minimum required version: \" + min_version)\n",
    "    else:\n",
    "        print(\"Python version is too old. Upgrade to a newer version.\")"
   ]
  },
  {
   "cell_type": "markdown",
   "metadata": {},
   "source": [
    "### Install the required packages"
   ]
  },
  {
   "cell_type": "code",
   "execution_count": 2,
   "metadata": {},
   "outputs": [
    {
     "name": "stdout",
     "output_type": "stream",
     "text": [
      "Requirement already satisfied: pandas in /Users/deckard/opt/anaconda3/lib/python3.9/site-packages (1.4.4)\n",
      "Requirement already satisfied: python-dateutil>=2.8.1 in /Users/deckard/opt/anaconda3/lib/python3.9/site-packages (from pandas) (2.8.2)\n",
      "Requirement already satisfied: pytz>=2020.1 in /Users/deckard/opt/anaconda3/lib/python3.9/site-packages (from pandas) (2022.1)\n",
      "Requirement already satisfied: numpy>=1.18.5 in /Users/deckard/opt/anaconda3/lib/python3.9/site-packages (from pandas) (1.21.5)\n",
      "Requirement already satisfied: six>=1.5 in /Users/deckard/opt/anaconda3/lib/python3.9/site-packages (from python-dateutil>=2.8.1->pandas) (1.16.0)\n",
      "Requirement already satisfied: seaborn in /Users/deckard/opt/anaconda3/lib/python3.9/site-packages (0.11.2)\n",
      "Requirement already satisfied: scipy>=1.0 in /Users/deckard/opt/anaconda3/lib/python3.9/site-packages (from seaborn) (1.9.1)\n",
      "Requirement already satisfied: pandas>=0.23 in /Users/deckard/opt/anaconda3/lib/python3.9/site-packages (from seaborn) (1.4.4)\n",
      "Requirement already satisfied: numpy>=1.15 in /Users/deckard/opt/anaconda3/lib/python3.9/site-packages (from seaborn) (1.21.5)\n",
      "Requirement already satisfied: matplotlib>=2.2 in /Users/deckard/opt/anaconda3/lib/python3.9/site-packages (from seaborn) (3.5.2)\n",
      "Requirement already satisfied: fonttools>=4.22.0 in /Users/deckard/opt/anaconda3/lib/python3.9/site-packages (from matplotlib>=2.2->seaborn) (4.25.0)\n",
      "Requirement already satisfied: python-dateutil>=2.7 in /Users/deckard/opt/anaconda3/lib/python3.9/site-packages (from matplotlib>=2.2->seaborn) (2.8.2)\n",
      "Requirement already satisfied: packaging>=20.0 in /Users/deckard/opt/anaconda3/lib/python3.9/site-packages (from matplotlib>=2.2->seaborn) (21.3)\n",
      "Requirement already satisfied: cycler>=0.10 in /Users/deckard/opt/anaconda3/lib/python3.9/site-packages (from matplotlib>=2.2->seaborn) (0.11.0)\n",
      "Requirement already satisfied: kiwisolver>=1.0.1 in /Users/deckard/opt/anaconda3/lib/python3.9/site-packages (from matplotlib>=2.2->seaborn) (1.4.2)\n",
      "Requirement already satisfied: pyparsing>=2.2.1 in /Users/deckard/opt/anaconda3/lib/python3.9/site-packages (from matplotlib>=2.2->seaborn) (3.0.9)\n",
      "Requirement already satisfied: pillow>=6.2.0 in /Users/deckard/opt/anaconda3/lib/python3.9/site-packages (from matplotlib>=2.2->seaborn) (9.2.0)\n",
      "Requirement already satisfied: pytz>=2020.1 in /Users/deckard/opt/anaconda3/lib/python3.9/site-packages (from pandas>=0.23->seaborn) (2022.1)\n",
      "Requirement already satisfied: six>=1.5 in /Users/deckard/opt/anaconda3/lib/python3.9/site-packages (from python-dateutil>=2.7->matplotlib>=2.2->seaborn) (1.16.0)\n",
      "Requirement already satisfied: matplotlib in /Users/deckard/opt/anaconda3/lib/python3.9/site-packages (3.5.2)\n",
      "Requirement already satisfied: cycler>=0.10 in /Users/deckard/opt/anaconda3/lib/python3.9/site-packages (from matplotlib) (0.11.0)\n",
      "Requirement already satisfied: numpy>=1.17 in /Users/deckard/opt/anaconda3/lib/python3.9/site-packages (from matplotlib) (1.21.5)\n",
      "Requirement already satisfied: packaging>=20.0 in /Users/deckard/opt/anaconda3/lib/python3.9/site-packages (from matplotlib) (21.3)\n",
      "Requirement already satisfied: pyparsing>=2.2.1 in /Users/deckard/opt/anaconda3/lib/python3.9/site-packages (from matplotlib) (3.0.9)\n",
      "Requirement already satisfied: python-dateutil>=2.7 in /Users/deckard/opt/anaconda3/lib/python3.9/site-packages (from matplotlib) (2.8.2)\n",
      "Requirement already satisfied: fonttools>=4.22.0 in /Users/deckard/opt/anaconda3/lib/python3.9/site-packages (from matplotlib) (4.25.0)\n",
      "Requirement already satisfied: pillow>=6.2.0 in /Users/deckard/opt/anaconda3/lib/python3.9/site-packages (from matplotlib) (9.2.0)\n",
      "Requirement already satisfied: kiwisolver>=1.0.1 in /Users/deckard/opt/anaconda3/lib/python3.9/site-packages (from matplotlib) (1.4.2)\n",
      "Requirement already satisfied: six>=1.5 in /Users/deckard/opt/anaconda3/lib/python3.9/site-packages (from python-dateutil>=2.7->matplotlib) (1.16.0)\n",
      "Requirement already satisfied: numpy in /Users/deckard/opt/anaconda3/lib/python3.9/site-packages (1.21.5)\n"
     ]
    }
   ],
   "source": [
    "!pip install pandas\n",
    "!pip install seaborn\n",
    "!pip install matplotlib\n",
    "!pip install numpy"
   ]
  },
  {
   "cell_type": "markdown",
   "metadata": {},
   "source": [
    "### Import the packages into the project"
   ]
  },
  {
   "cell_type": "code",
   "execution_count": 3,
   "metadata": {},
   "outputs": [],
   "source": [
    "# External libraries \n",
    "import pandas as pd\n",
    "import seaborn as sns\n",
    "import matplotlib.pyplot as plt\n",
    "import numpy as np\n",
    "import os"
   ]
  },
  {
   "cell_type": "markdown",
   "metadata": {},
   "source": [
    "### Load the clean csv"
   ]
  },
  {
   "cell_type": "code",
   "execution_count": 4,
   "metadata": {},
   "outputs": [
    {
     "name": "stdout",
     "output_type": "stream",
     "text": [
      "                                             Location       Activity  \\\n",
      "0                                                 NaN            NaN   \n",
      "1   On the first floor (1st floor - in a working s...   1 day a week   \n",
      "2   On the first floor (1st floor - in a working s...  4 days a week   \n",
      "3   On the first floor (1st floor - in a working s...  4 days a week   \n",
      "4                    On the ground floor (the atrium)  2 days a week   \n",
      "5   On the first floor (1st floor - in a working s...   1 day a week   \n",
      "6                    On the ground floor (the atrium)  3 days a week   \n",
      "7   On the second floor (2th floor - in a working ...  5 days a week   \n",
      "8   On the second floor (2th floor - in a working ...  4 days a week   \n",
      "9   On the first floor (1st floor - in a working s...   1 day a week   \n",
      "10                   On the ground floor (the atrium)  3 days a week   \n",
      "11                   On the ground floor (the atrium)  3 days a week   \n",
      "12  On the first floor (1st floor - in a working s...   1 day a week   \n",
      "13  On the first floor (1st floor - in a working s...  2 days a week   \n",
      "14                   On the ground floor (the atrium)   1 day a week   \n",
      "15  On the first floor (1st floor - in a working s...  4 days a week   \n",
      "16                   On the ground floor (the atrium)  5 days a week   \n",
      "17  On the first floor (1st floor - in a working s...   1 day a week   \n",
      "18                   On the ground floor (the atrium)   1 day a week   \n",
      "19  On the first floor (1st floor - in a working s...  3 days a week   \n",
      "20                   On the ground floor (the atrium)  2 days a week   \n",
      "21  On the first floor (1st floor - in a working s...  4 days a week   \n",
      "22  On the first floor (1st floor - in a working s...  3 days a week   \n",
      "23  On the first floor (1st floor - in a working s...  3 days a week   \n",
      "24  On the first floor (1st floor - in a working s...  2 days a week   \n",
      "25                   On the ground floor (the atrium)  3 days a week   \n",
      "26  On the first floor (1st floor - in a working s...  3 days a week   \n",
      "27                   On the ground floor (the atrium)  5 days a week   \n",
      "\n",
      "          Occupancy Indoor Air Quality_1 Perceived_1  \\\n",
      "0               NaN                  NaN         NaN   \n",
      "1       Not crowded              Neutral        Good   \n",
      "2           Crowded           Very aware        Poor   \n",
      "3   Not too crowded                Aware        Good   \n",
      "4   Not too crowded              Unaware        Good   \n",
      "5       Not crowded              Neutral        Good   \n",
      "6       Not crowded              Neutral        Good   \n",
      "7   Not too crowded                Aware        Good   \n",
      "8       Not crowded              Unaware        Good   \n",
      "9       Not crowded              Unaware  Acceptable   \n",
      "10  Not too crowded         Very unaware  Acceptable   \n",
      "11          Crowded         Very unaware        Good   \n",
      "12          Crowded              Unaware  Acceptable   \n",
      "13  Not too crowded         Very unaware  Acceptable   \n",
      "14  Not too crowded                Aware        Good   \n",
      "15  Not too crowded              Neutral   Very Good   \n",
      "16  Not too crowded                Aware  Acceptable   \n",
      "17          Crowded         Very unaware        Good   \n",
      "18  Not too crowded              Unaware        Good   \n",
      "19          Crowded              Unaware        Good   \n",
      "20  Not too crowded              Unaware  Acceptable   \n",
      "21  Not too crowded                Aware        Poor   \n",
      "22  Not too crowded              Neutral  Acceptable   \n",
      "23  Not too crowded              Unaware   Very Good   \n",
      "24  Not too crowded         Very unaware        Good   \n",
      "25  Not too crowded                Aware  Acceptable   \n",
      "26  Not too crowded           Very aware        Good   \n",
      "27          Crowded              Unaware  Acceptable   \n",
      "\n",
      "                        Satisfaction_1  \\\n",
      "0                                  NaN   \n",
      "1                            Satisfied   \n",
      "2                         Dissatisfied   \n",
      "3                            Satisfied   \n",
      "4                            Satisfied   \n",
      "5                            Satisfied   \n",
      "6                       Very satisfied   \n",
      "7                            Satisfied   \n",
      "8                       Very satisfied   \n",
      "9   Neither dissaitisfied or satisfied   \n",
      "10  Neither dissaitisfied or satisfied   \n",
      "11  Neither dissaitisfied or satisfied   \n",
      "12  Neither dissaitisfied or satisfied   \n",
      "13  Neither dissaitisfied or satisfied   \n",
      "14  Neither dissaitisfied or satisfied   \n",
      "15                      Very satisfied   \n",
      "16  Neither dissaitisfied or satisfied   \n",
      "17                           Satisfied   \n",
      "18                           Satisfied   \n",
      "19                           Satisfied   \n",
      "20                        Dissatisfied   \n",
      "21  Neither dissaitisfied or satisfied   \n",
      "22                           Satisfied   \n",
      "23                           Satisfied   \n",
      "24                           Satisfied   \n",
      "25                           Satisfied   \n",
      "26                           Satisfied   \n",
      "27                           Satisfied   \n",
      "\n",
      "                                          Description            Symptons  \\\n",
      "0                                                 NaN                 NaN   \n",
      "1                                                 NaN                None   \n",
      "2                 there needs to be more ventilation                Other   \n",
      "3                                                 NaN                 NaN   \n",
      "4                                                 NaN                None   \n",
      "5                                                 NaN                None   \n",
      "6   I feel like I’m this building the air quiality...                None   \n",
      "7                                                 NaN                None   \n",
      "8   I think it is good, although I must say that t...                None   \n",
      "9   Its really cold in here so the air seems cold ...                None   \n",
      "10                                                NaN                None   \n",
      "11                                                NaN                None   \n",
      "12                                                NaN                None   \n",
      "13                                                NaN                None   \n",
      "14                                                NaN                None   \n",
      "15                                      It feels good                None   \n",
      "16                                                NaN                None   \n",
      "17                                                NaN                None   \n",
      "18  I like the air quality. This may also be becau...                None   \n",
      "19  I thrive on the oxygen provided by the many pl...                None   \n",
      "20                                                NaN           Headaches   \n",
      "21           Sometimes I can smell \"burned plastics\".               Other   \n",
      "22                                                NaN  Feeling noiziating   \n",
      "23                                                NaN                None   \n",
      "24                                                NaN                None   \n",
      "25                                                NaN                None   \n",
      "26                                                NaN           Headaches   \n",
      "27                                                NaN                None   \n",
      "\n",
      "                                    Symptons_5_TEXT           Cognitive  \\\n",
      "0                                               NaN                 NaN   \n",
      "1                                               NaN                None   \n",
      "2                                       foggy brain  Trouble with focus   \n",
      "3                                               NaN                 NaN   \n",
      "4                                               NaN                None   \n",
      "5                                               NaN                None   \n",
      "6                                               NaN                None   \n",
      "7                                               NaN                None   \n",
      "8                                               NaN                None   \n",
      "9                                               NaN               Other   \n",
      "10                                              NaN                None   \n",
      "11                                              NaN                None   \n",
      "12                                              NaN  Trouble with focus   \n",
      "13                                              NaN  Trouble with focus   \n",
      "14                                              NaN                None   \n",
      "15                                              NaN                None   \n",
      "16                                              NaN  Trouble with focus   \n",
      "17                                              NaN                None   \n",
      "18                                              NaN               Other   \n",
      "19                                              NaN               Other   \n",
      "20                                              NaN           Tiredness   \n",
      "21  Breathing unnaturally, Headaches(not frequent).           Tiredness   \n",
      "22                                              NaN  Trouble with focus   \n",
      "23                                              NaN                None   \n",
      "24                                              NaN                None   \n",
      "25                                              NaN                None   \n",
      "26                                              NaN                None   \n",
      "27                                              NaN               Other   \n",
      "\n",
      "                                     Cognitive_3_TEXT  \n",
      "0                                                 NaN  \n",
      "1                                                 NaN  \n",
      "2                                                 NaN  \n",
      "3                                                 NaN  \n",
      "4                                                 NaN  \n",
      "5                                                 NaN  \n",
      "6                                                 NaN  \n",
      "7                                                 NaN  \n",
      "8                                                 NaN  \n",
      "9                         I feel sick bcs of the cold  \n",
      "10                                                NaN  \n",
      "11                                                NaN  \n",
      "12                                                NaN  \n",
      "13                                                NaN  \n",
      "14                                                NaN  \n",
      "15                                                NaN  \n",
      "16                                                NaN  \n",
      "17                                                NaN  \n",
      "18                  A little tired because of my exam  \n",
      "19  headache, but that might be due to other facto...  \n",
      "20                                                NaN  \n",
      "21                                                NaN  \n",
      "22                                                NaN  \n",
      "23                                                NaN  \n",
      "24                                                NaN  \n",
      "25                                                NaN  \n",
      "26                                                NaN  \n",
      "27  I don’t know if my symptoms are related to bad...  \n"
     ]
    }
   ],
   "source": [
    "def import_csv(file):\n",
    "    df = pd.read_csv(file)\n",
    "    return df\n",
    "\n",
    "file = 'survey-data/survey_data_clean.csv'\n",
    "\n",
    "full_data = import_csv(file)\n",
    "print(full_data)"
   ]
  },
  {
   "cell_type": "markdown",
   "metadata": {},
   "source": [
    "## Analysis of participants"
   ]
  },
  {
   "cell_type": "markdown",
   "metadata": {},
   "source": [
    "### Location\n",
    "**Q:** _Where are you currently located within the Lab42 building?_"
   ]
  },
  {
   "cell_type": "code",
   "execution_count": 5,
   "metadata": {},
   "outputs": [
    {
     "name": "stdout",
     "output_type": "stream",
     "text": [
      "        Location\n",
      "0            NaN\n",
      "1      1st floor\n",
      "2      1st floor\n",
      "3      1st floor\n",
      "4   Ground floor\n",
      "5      1st floor\n",
      "6   Ground floor\n",
      "7      2nd floor\n",
      "8      2nd floor\n",
      "9      1st floor\n",
      "10  Ground floor\n",
      "11  Ground floor\n",
      "12     1st floor\n",
      "13     1st floor\n",
      "14  Ground floor\n",
      "15     1st floor\n",
      "16  Ground floor\n",
      "17     1st floor\n",
      "18  Ground floor\n",
      "19     1st floor\n",
      "20  Ground floor\n",
      "21     1st floor\n",
      "22     1st floor\n",
      "23     1st floor\n",
      "24     1st floor\n",
      "25  Ground floor\n",
      "26     1st floor\n",
      "27  Ground floor\n"
     ]
    },
    {
     "data": {
      "image/png": "[encoded data removed]",
      "text/plain": [
       "<Figure size 1000x600 with 1 Axes>"
      ]
     },
     "metadata": {},
     "output_type": "display_data"
    }
   ],
   "source": [
    "data = import_csv(file)\n",
    "\n",
    "def extract_location_answers(df):\n",
    "    # Select the 'Location' column\n",
    "    location_column = df['Location']\n",
    "\n",
    "    # Replace labels with simplified ones\n",
    "    location_column.replace({\n",
    "        'On the first floor (1st floor - in a working space)': '1st floor',\n",
    "        'On the ground floor (the atrium)': 'Ground floor',\n",
    "        'On the second floor (2th floor - in a working space)': '2nd floor'\n",
    "    }, inplace=True)\n",
    "  \n",
    "    # Create a new DataFrame containing only the answers from the 'Location' column\n",
    "    location_df = pd.DataFrame(location_column)\n",
    "\n",
    "    return location_df\n",
    "\n",
    "location_df = extract_location_answers(data)\n",
    "print(location_df)\n",
    "\n",
    "# Plot the bar graph based on the counts\n",
    "def plot_location_bar_graph(df):\n",
    "    location_counts = df['Location'].value_counts()\n",
    "\n",
    "    # Plot the bar graph\n",
    "    plt.figure(figsize=(10, 6))\n",
    "    sns.barplot(x=location_counts.index, y=location_counts.values, hue=location_counts.index, palette=\"viridis\", dodge=False)\n",
    "    plt.title('Count of Locations')\n",
    "    plt.xlabel('Location')\n",
    "    plt.ylabel('Participants')\n",
    "    plt.tight_layout()\n",
    "\n",
    "    # Save the bar chart to the 'charts' subfolder\n",
    "    plt.savefig(os.path.join('survey-charts', 'location_bar_chart.png'))\n",
    "\n",
    "    plt.plot\n",
    "    \n",
    "plot_location_bar_graph(location_df)"
   ]
  },
  {
   "cell_type": "markdown",
   "metadata": {},
   "source": [
    "### Occupancy\n",
    "\n",
    "**Q:** _How would you describe the occupancy in your current space?_"
   ]
  },
  {
   "cell_type": "code",
   "execution_count": 6,
   "metadata": {},
   "outputs": [
    {
     "name": "stdout",
     "output_type": "stream",
     "text": [
      "          Occupancy\n",
      "0               NaN\n",
      "1       Not crowded\n",
      "2           Crowded\n",
      "3   Not too crowded\n",
      "4   Not too crowded\n",
      "5       Not crowded\n",
      "6       Not crowded\n",
      "7   Not too crowded\n",
      "8       Not crowded\n",
      "9       Not crowded\n",
      "10  Not too crowded\n",
      "11          Crowded\n",
      "12          Crowded\n",
      "13  Not too crowded\n",
      "14  Not too crowded\n",
      "15  Not too crowded\n",
      "16  Not too crowded\n",
      "17          Crowded\n",
      "18  Not too crowded\n",
      "19          Crowded\n",
      "20  Not too crowded\n",
      "21  Not too crowded\n",
      "22  Not too crowded\n",
      "23  Not too crowded\n",
      "24  Not too crowded\n",
      "25  Not too crowded\n",
      "26  Not too crowded\n",
      "27          Crowded\n"
     ]
    },
    {
     "data": {
      "image/png": "[encoded data removed]",
      "text/plain": [
       "<Figure size 1000x600 with 1 Axes>"
      ]
     },
     "metadata": {},
     "output_type": "display_data"
    }
   ],
   "source": [
    "data = import_csv(file)\n",
    "\n",
    "def extract_occupancy_answers(df):\n",
    "    # Select the 'Occupancy' column\n",
    "    occupancy_column = df['Occupancy']\n",
    "  \n",
    "    # Create a new DataFrame containing only the answers from the 'Occupancy' column\n",
    "    occupancy_df = pd.DataFrame(occupancy_column)\n",
    "\n",
    "    return occupancy_df\n",
    "\n",
    "occupancy_df = extract_occupancy_answers(data)\n",
    "print(occupancy_df)\n",
    "\n",
    "def plot_occupancy_bar_graph(df):\n",
    "    occupancy_counts = df['Occupancy'].value_counts()\n",
    "\n",
    "    # Plot the bar graph\n",
    "    plt.figure(figsize=(10, 6))\n",
    "    sns.barplot(x=occupancy_counts.index, y=occupancy_counts.values, hue=occupancy_counts.index, palette=\"viridis\", dodge=False)\n",
    "    plt.title('Count of Occupancy')\n",
    "    plt.xlabel('Occupancy')\n",
    "    plt.ylabel('Participants')\n",
    "    plt.tight_layout()\n",
    "\n",
    "    # Save the bar chart to the 'charts' subfolder\n",
    "    plt.savefig(os.path.join('survey-charts', 'occupancy_bar_chart.png'))\n",
    "\n",
    "    plt.show()\n",
    "\n",
    "plot_occupancy_bar_graph(occupancy_df)"
   ]
  },
  {
   "cell_type": "markdown",
   "metadata": {},
   "source": [
    "### Activity\n",
    "\n",
    "**Q:** _On average, how often do you use Lab42 per week for various activities?_"
   ]
  },
  {
   "cell_type": "code",
   "execution_count": 7,
   "metadata": {},
   "outputs": [
    {
     "name": "stdout",
     "output_type": "stream",
     "text": [
      "         Activity\n",
      "0             NaN\n",
      "1    1 day a week\n",
      "2   4 days a week\n",
      "3   4 days a week\n",
      "4   2 days a week\n",
      "5    1 day a week\n",
      "6   3 days a week\n",
      "7   5 days a week\n",
      "8   4 days a week\n",
      "9    1 day a week\n",
      "10  3 days a week\n",
      "11  3 days a week\n",
      "12   1 day a week\n",
      "13  2 days a week\n",
      "14   1 day a week\n",
      "15  4 days a week\n",
      "16  5 days a week\n",
      "17   1 day a week\n",
      "18   1 day a week\n",
      "19  3 days a week\n",
      "20  2 days a week\n",
      "21  4 days a week\n",
      "22  3 days a week\n",
      "23  3 days a week\n",
      "24  2 days a week\n",
      "25  3 days a week\n",
      "26  3 days a week\n",
      "27  5 days a week\n"
     ]
    },
    {
     "data": {
      "image/png": "[encoded data removed]",
      "text/plain": [
       "<Figure size 1000x600 with 1 Axes>"
      ]
     },
     "metadata": {},
     "output_type": "display_data"
    }
   ],
   "source": [
    "data = import_csv(file)\n",
    "\n",
    "# Define the functions\n",
    "def extract_activity_answers(df):\n",
    "    # Select the 'Activity' column\n",
    "    activity_column = df['Activity']\n",
    "  \n",
    "    # Create a new DataFrame containing only the answers from the 'Activity' column\n",
    "    activity_df = pd.DataFrame(activity_column)\n",
    "\n",
    "    return activity_df\n",
    "\n",
    "activity_df = extract_activity_answers(data)\n",
    "print(activity_df)    \n",
    "\n",
    "def plot_activity_bar_graph(df):\n",
    "    activity_counts = df['Activity'].value_counts()\n",
    "\n",
    "    # Plot the bar graph\n",
    "    plt.figure(figsize=(10, 6))\n",
    "    sns.barplot(x=activity_counts.index, y=activity_counts.values, hue=activity_counts.index, palette=\"viridis\", dodge=False)\n",
    "    plt.title('Count of Activity')\n",
    "    plt.xlabel('Activity')\n",
    "    plt.ylabel('Participants')\n",
    "    plt.tight_layout()\n",
    "\n",
    "    # Save the bar chart to the 'charts' subfolder\n",
    "    plt.savefig(os.path.join('survey-charts', 'activity_bar_chart.png'))\n",
    "\n",
    "    plt.show()\n",
    "\n",
    "plot_activity_bar_graph(activity_df)"
   ]
  }
 ],
 "metadata": {
  "kernelspec": {
   "display_name": "Python 3",
   "language": "python",
   "name": "python3"
  },
  "language_info": {
   "codemirror_mode": {
    "name": "ipython",
    "version": 3
   },
   "file_extension": ".py",
   "mimetype": "text/x-python",
   "name": "python",
   "nbconvert_exporter": "python",
   "pygments_lexer": "ipython3",
   "version": "3.9.12"
  }
 },
 "nbformat": 4,
 "nbformat_minor": 2
}
