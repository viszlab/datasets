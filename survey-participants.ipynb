{
 "cells": [
  {
   "cell_type": "markdown",
   "metadata": {},
   "source": [
    "# Survey Participants\n",
    "\n",
    "This notebooks visualizes some participant information from the survey.\n",
    "\n",
    "* _Input:_ Clean .csv from Qualtrics with location, activity and occupancy questions\n",
    "* _Output:_ Saves a .csv to disk, exports graphs as .jpg\n",
    "\n",
    "**Tasks:** \n",
    "* Plots a distribution of locations\n",
    "* Plots a distribution of activity days weekly\n",
    "* Plots the descriptions of occupancy in current space"
   ]
  },
  {
   "cell_type": "markdown",
   "metadata": {},
   "source": [
    "## Metadata\n",
    "\n",
    "* **Master**: Master Information Studies: Information Systems (track)\n",
    "* **University**: University of Amsterdam (UvA)\n",
    "* **Institute**: Informatics Institute\n",
    "* **Faculty**: Faculty of Science (FNWI)\n",
    "* **Research Group**: Digital Interactions Lab (DIL)\n",
    "* **Student**: BSc Danny de Vries (14495643)\n",
    "* **Supervisor**: Dr. H. (Hamed) Seiied Alavi PhD\n",
    "\n",
    "[Viszlab](https://www.viszlab.github.io) © 2024 by [Danny de Vries](https://wwww.github.com/dandevri) is licensed under [CC BY-NC-SA 4.0](http://creativecommons.org/licenses/by-nc-sa/4.0/?ref=chooser-v1)."
   ]
  },
  {
   "cell_type": "markdown",
   "metadata": {},
   "source": [
    "## Prequisites\n",
    "\n",
    "This notebooks needs a sufficient Python version (>=3.6) to run and requires some packages and libraries for analysis and visualization. The following code checks if your installed Python version is compatible, installs the necessary packages and imports the packages into the notebook."
   ]
  },
  {
   "cell_type": "markdown",
   "metadata": {},
   "source": [
    "### Check Python installation"
   ]
  },
  {
   "cell_type": "code",
   "execution_count": 105,
   "metadata": {},
   "outputs": [
    {
     "name": "stdout",
     "output_type": "stream",
     "text": [
      "Running a sufficiently new version of Python.\n",
      "Current version: 3.9.12\n",
      "Minimum required version: 3.8\n"
     ]
    }
   ],
   "source": [
    "from packaging import version\n",
    "import platform\n",
    "import sys\n",
    "\n",
    "min_version = '3.8'\n",
    "\n",
    "def check_version(min_version):\n",
    "    current_version = sys.version.split()[0]\n",
    "    return version.parse(current_version) >= version.parse(min_version)\n",
    "\n",
    "# Example usage:\n",
    "if __name__ == \"__main__\":\n",
    "    if check_version(min_version):\n",
    "        print(\"Running a sufficiently new version of Python.\")\n",
    "        print(\"Current version: \" + platform.python_version())\n",
    "        print(\"Minimum required version: \" + min_version)\n",
    "    else:\n",
    "        print(\"Python version is too old. Upgrade to a newer version.\")"
   ]
  },
  {
   "cell_type": "markdown",
   "metadata": {},
   "source": [
    "### Install the required packages"
   ]
  },
  {
   "cell_type": "code",
   "execution_count": 106,
   "metadata": {},
   "outputs": [
    {
     "name": "stdout",
     "output_type": "stream",
     "text": [
      "Requirement already satisfied: pandas in /Users/deckard/opt/anaconda3/lib/python3.9/site-packages (1.4.4)\n",
      "Requirement already satisfied: python-dateutil>=2.8.1 in /Users/deckard/opt/anaconda3/lib/python3.9/site-packages (from pandas) (2.8.2)\n",
      "Requirement already satisfied: pytz>=2020.1 in /Users/deckard/opt/anaconda3/lib/python3.9/site-packages (from pandas) (2022.1)\n",
      "Requirement already satisfied: numpy>=1.18.5 in /Users/deckard/opt/anaconda3/lib/python3.9/site-packages (from pandas) (1.21.5)\n",
      "Requirement already satisfied: six>=1.5 in /Users/deckard/opt/anaconda3/lib/python3.9/site-packages (from python-dateutil>=2.8.1->pandas) (1.16.0)\n",
      "Requirement already satisfied: seaborn in /Users/deckard/opt/anaconda3/lib/python3.9/site-packages (0.11.2)\n",
      "Requirement already satisfied: numpy>=1.15 in /Users/deckard/opt/anaconda3/lib/python3.9/site-packages (from seaborn) (1.21.5)\n",
      "Requirement already satisfied: scipy>=1.0 in /Users/deckard/opt/anaconda3/lib/python3.9/site-packages (from seaborn) (1.9.1)\n",
      "Requirement already satisfied: pandas>=0.23 in /Users/deckard/opt/anaconda3/lib/python3.9/site-packages (from seaborn) (1.4.4)\n",
      "Requirement already satisfied: matplotlib>=2.2 in /Users/deckard/opt/anaconda3/lib/python3.9/site-packages (from seaborn) (3.5.2)\n",
      "Requirement already satisfied: cycler>=0.10 in /Users/deckard/opt/anaconda3/lib/python3.9/site-packages (from matplotlib>=2.2->seaborn) (0.11.0)\n",
      "Requirement already satisfied: packaging>=20.0 in /Users/deckard/opt/anaconda3/lib/python3.9/site-packages (from matplotlib>=2.2->seaborn) (21.3)\n",
      "Requirement already satisfied: fonttools>=4.22.0 in /Users/deckard/opt/anaconda3/lib/python3.9/site-packages (from matplotlib>=2.2->seaborn) (4.25.0)\n",
      "Requirement already satisfied: kiwisolver>=1.0.1 in /Users/deckard/opt/anaconda3/lib/python3.9/site-packages (from matplotlib>=2.2->seaborn) (1.4.2)\n",
      "Requirement already satisfied: pyparsing>=2.2.1 in /Users/deckard/opt/anaconda3/lib/python3.9/site-packages (from matplotlib>=2.2->seaborn) (3.0.9)\n",
      "Requirement already satisfied: pillow>=6.2.0 in /Users/deckard/opt/anaconda3/lib/python3.9/site-packages (from matplotlib>=2.2->seaborn) (9.2.0)\n",
      "Requirement already satisfied: python-dateutil>=2.7 in /Users/deckard/opt/anaconda3/lib/python3.9/site-packages (from matplotlib>=2.2->seaborn) (2.8.2)\n",
      "Requirement already satisfied: pytz>=2020.1 in /Users/deckard/opt/anaconda3/lib/python3.9/site-packages (from pandas>=0.23->seaborn) (2022.1)\n",
      "Requirement already satisfied: six>=1.5 in /Users/deckard/opt/anaconda3/lib/python3.9/site-packages (from python-dateutil>=2.7->matplotlib>=2.2->seaborn) (1.16.0)\n",
      "Requirement already satisfied: matplotlib in /Users/deckard/opt/anaconda3/lib/python3.9/site-packages (3.5.2)\n",
      "Requirement already satisfied: packaging>=20.0 in /Users/deckard/opt/anaconda3/lib/python3.9/site-packages (from matplotlib) (21.3)\n",
      "Requirement already satisfied: pyparsing>=2.2.1 in /Users/deckard/opt/anaconda3/lib/python3.9/site-packages (from matplotlib) (3.0.9)\n",
      "Requirement already satisfied: cycler>=0.10 in /Users/deckard/opt/anaconda3/lib/python3.9/site-packages (from matplotlib) (0.11.0)\n",
      "Requirement already satisfied: kiwisolver>=1.0.1 in /Users/deckard/opt/anaconda3/lib/python3.9/site-packages (from matplotlib) (1.4.2)\n",
      "Requirement already satisfied: pillow>=6.2.0 in /Users/deckard/opt/anaconda3/lib/python3.9/site-packages (from matplotlib) (9.2.0)\n",
      "Requirement already satisfied: numpy>=1.17 in /Users/deckard/opt/anaconda3/lib/python3.9/site-packages (from matplotlib) (1.21.5)\n",
      "Requirement already satisfied: fonttools>=4.22.0 in /Users/deckard/opt/anaconda3/lib/python3.9/site-packages (from matplotlib) (4.25.0)\n",
      "Requirement already satisfied: python-dateutil>=2.7 in /Users/deckard/opt/anaconda3/lib/python3.9/site-packages (from matplotlib) (2.8.2)\n",
      "Requirement already satisfied: six>=1.5 in /Users/deckard/opt/anaconda3/lib/python3.9/site-packages (from python-dateutil>=2.7->matplotlib) (1.16.0)\n",
      "Requirement already satisfied: numpy in /Users/deckard/opt/anaconda3/lib/python3.9/site-packages (1.21.5)\n"
     ]
    }
   ],
   "source": [
    "!pip install pandas\n",
    "!pip install seaborn\n",
    "!pip install matplotlib\n",
    "!pip install numpy"
   ]
  },
  {
   "cell_type": "markdown",
   "metadata": {},
   "source": [
    "### Import the packages into the project"
   ]
  },
  {
   "cell_type": "code",
   "execution_count": 107,
   "metadata": {},
   "outputs": [],
   "source": [
    "# External libraries \n",
    "import pandas as pd\n",
    "import seaborn as sns\n",
    "import matplotlib.pyplot as plt\n",
    "import numpy as np\n",
    "import os"
   ]
  },
  {
   "cell_type": "markdown",
   "metadata": {},
   "source": [
    "### Load the clean csv"
   ]
  },
  {
   "cell_type": "code",
   "execution_count": 108,
   "metadata": {},
   "outputs": [
    {
     "name": "stdout",
     "output_type": "stream",
     "text": [
      "             StartDate              EndDate      Status       IPAddress  \\\n",
      "0  2024-03-28 14:03:09  2024-03-28 14:05:45  IP Address  145.109.22.122   \n",
      "1  2024-03-28 14:04:50  2024-03-28 14:07:54  IP Address   145.109.9.173   \n",
      "2  2024-03-28 14:07:44  2024-03-28 14:08:44  IP Address   80.233.53.168   \n",
      "3  2024-03-28 14:09:29  2024-03-28 14:10:39  IP Address    145.109.9.15   \n",
      "4  2024-03-28 14:10:02  2024-03-28 14:11:30  IP Address   145.109.37.80   \n",
      "5  2024-03-28 14:10:01  2024-03-28 14:11:34  IP Address   145.109.40.38   \n",
      "6  2024-03-28 14:15:48  2024-03-28 14:17:15  IP Address   77.63.122.115   \n",
      "7  2024-03-28 14:16:17  2024-03-28 14:18:01  IP Address   145.109.15.96   \n",
      "8  2024-03-28 15:20:12  2024-03-28 15:22:10  IP Address     46.34.234.9   \n",
      "\n",
      "   Progress  Duration (in seconds)  Finished         RecordedDate  \\\n",
      "0       100                    156      True  2024-03-28 14:05:46   \n",
      "1       100                    184      True  2024-03-28 14:07:55   \n",
      "2       100                     60      True  2024-03-28 14:08:45   \n",
      "3       100                     69      True  2024-03-28 14:10:40   \n",
      "4       100                     88      True  2024-03-28 14:11:31   \n",
      "5       100                     93      True  2024-03-28 14:11:34   \n",
      "6       100                     87      True  2024-03-28 14:17:15   \n",
      "7       100                    103      True  2024-03-28 14:18:01   \n",
      "8       100                    117      True  2024-03-28 15:22:11   \n",
      "\n",
      "          ResponseId  RecipientLastName  ...       Activity        Occupancy  \\\n",
      "0  R_8CIn4BdVolHL8lU                NaN  ...   1 day a week      Not crowded   \n",
      "1  R_2QFyuyCGa26NetU                NaN  ...  4 days a week          Crowded   \n",
      "2  R_3Tnsyv4GlTbNptE                NaN  ...  4 days a week  Not too crowded   \n",
      "3  R_8mn1FKgZlEVHQ7s                NaN  ...  2 days a week  Not too crowded   \n",
      "4  R_1GHSvKF32o6qDOR                NaN  ...   1 day a week      Not crowded   \n",
      "5  R_18t13IbTrGJdgwp                NaN  ...  3 days a week      Not crowded   \n",
      "6  R_5SWklZcLn8JZFfj                NaN  ...  5 days a week  Not too crowded   \n",
      "7  R_1Pv3hF9VawKwk4Q                NaN  ...  4 days a week      Not crowded   \n",
      "8  R_4guoIiE2GEpuc3N                NaN  ...   1 day a week      Not crowded   \n",
      "\n",
      "   Indoor Air Quality_1  Perceived_1                      Satisfaction_1  \\\n",
      "0               Neutral         Good                           Satisfied   \n",
      "1            Very aware         Poor                        Dissatisfied   \n",
      "2                 Aware         Good                           Satisfied   \n",
      "3               Unaware         Good                           Satisfied   \n",
      "4               Neutral         Good                           Satisfied   \n",
      "5               Neutral         Good                      Very satisfied   \n",
      "6                 Aware         Good                           Satisfied   \n",
      "7               Unaware         Good                      Very satisfied   \n",
      "8               Unaware   Acceptable  Neither dissaitisfied or satisfied   \n",
      "\n",
      "                                         Description Symptons Symptons_5_TEXT  \\\n",
      "0                                                NaN     None             NaN   \n",
      "1                there needs to be more ventilation     Other     foggy brain   \n",
      "2                                                NaN      NaN             NaN   \n",
      "3                                                NaN     None             NaN   \n",
      "4                                                NaN     None             NaN   \n",
      "5  I feel like I’m this building the air quiality...     None             NaN   \n",
      "6                                                NaN     None             NaN   \n",
      "7  I think it is good, although I must say that t...     None             NaN   \n",
      "8  Its really cold in here so the air seems cold ...     None             NaN   \n",
      "\n",
      "            Cognitive             Cognitive_3_TEXT  \n",
      "0                None                          NaN  \n",
      "1  Trouble with focus                          NaN  \n",
      "2                 NaN                          NaN  \n",
      "3                None                          NaN  \n",
      "4                None                          NaN  \n",
      "5                None                          NaN  \n",
      "6                None                          NaN  \n",
      "7                None                          NaN  \n",
      "8               Other  I feel sick bcs of the cold  \n",
      "\n",
      "[9 rows x 29 columns]\n"
     ]
    }
   ],
   "source": [
    "def import_csv(file):\n",
    "    df = pd.read_csv(file)\n",
    "    return df\n",
    "\n",
    "file = 'survey-data/survey-participants.csv'\n",
    "\n",
    "full_data = import_csv(file)\n",
    "print(full_data)"
   ]
  },
  {
   "cell_type": "markdown",
   "metadata": {},
   "source": [
    "## Analysis of participants"
   ]
  },
  {
   "cell_type": "markdown",
   "metadata": {},
   "source": [
    "### Location\n",
    "**Q:** _Where are you currently located within the Lab42 building?_"
   ]
  },
  {
   "cell_type": "code",
   "execution_count": 109,
   "metadata": {},
   "outputs": [
    {
     "name": "stdout",
     "output_type": "stream",
     "text": [
      "       Location\n",
      "0     1st floor\n",
      "1     1st floor\n",
      "2     1st floor\n",
      "3  Ground floor\n",
      "4     1st floor\n",
      "5  Ground floor\n",
      "6     2nd floor\n",
      "7     2nd floor\n",
      "8     1st floor\n"
     ]
    },
    {
     "data": {
      "image/png": "[encoded data removed]",
      "text/plain": [
       "<Figure size 1000x600 with 1 Axes>"
      ]
     },
     "metadata": {},
     "output_type": "display_data"
    }
   ],
   "source": [
    "data = import_csv(file)\n",
    "\n",
    "def extract_location_answers(df):\n",
    "    # Select the 'Location' column\n",
    "    location_column = df['Location']\n",
    "\n",
    "    # Replace labels with simplified ones\n",
    "    location_column.replace({\n",
    "        'On the first floor (1st floor - in a working space)': '1st floor',\n",
    "        'On the ground floor (the atrium)': 'Ground floor',\n",
    "        'On the second floor (2th floor - in a working space)': '2nd floor'\n",
    "    }, inplace=True)\n",
    "  \n",
    "    # Create a new DataFrame containing only the answers from the 'Location' column\n",
    "    location_df = pd.DataFrame(location_column)\n",
    "\n",
    "    return location_df\n",
    "\n",
    "location_df = extract_location_answers(data)\n",
    "print(location_df)\n",
    "\n",
    "# Plot the bar graph based on the counts\n",
    "def plot_location_bar_graph(df):\n",
    "    location_counts = df['Location'].value_counts()\n",
    "\n",
    "    # Plot the bar graph\n",
    "    plt.figure(figsize=(10, 6))\n",
    "    sns.barplot(x=location_counts.index, y=location_counts.values, hue=location_counts.index, palette=\"viridis\", dodge=False)\n",
    "    plt.title('Count of Locations')\n",
    "    plt.xlabel('Location')\n",
    "    plt.ylabel('Participants')\n",
    "    plt.tight_layout()\n",
    "\n",
    "    # Save the bar chart to the 'charts' subfolder\n",
    "    plt.savefig(os.path.join('survey-charts', 'location_bar_chart.png'))\n",
    "\n",
    "    plt.plot\n",
    "    \n",
    "plot_location_bar_graph(location_df)"
   ]
  },
  {
   "cell_type": "markdown",
   "metadata": {},
   "source": [
    "### Occupancy\n",
    "\n",
    "**Q:** _How would you describe the occupancy in your current space?_"
   ]
  },
  {
   "cell_type": "code",
   "execution_count": 110,
   "metadata": {},
   "outputs": [
    {
     "name": "stdout",
     "output_type": "stream",
     "text": [
      "         Occupancy\n",
      "0      Not crowded\n",
      "1          Crowded\n",
      "2  Not too crowded\n",
      "3  Not too crowded\n",
      "4      Not crowded\n",
      "5      Not crowded\n",
      "6  Not too crowded\n",
      "7      Not crowded\n",
      "8      Not crowded\n"
     ]
    },
    {
     "data": {
      "image/png": "[encoded data removed]",
      "text/plain": [
       "<Figure size 1000x600 with 1 Axes>"
      ]
     },
     "metadata": {},
     "output_type": "display_data"
    }
   ],
   "source": [
    "data = import_csv(file)\n",
    "\n",
    "def extract_occupancy_answers(df):\n",
    "    # Select the 'Occupancy' column\n",
    "    occupancy_column = df['Occupancy']\n",
    "  \n",
    "    # Create a new DataFrame containing only the answers from the 'Occupancy' column\n",
    "    occupancy_df = pd.DataFrame(occupancy_column)\n",
    "\n",
    "    return occupancy_df\n",
    "\n",
    "occupancy_df = extract_occupancy_answers(data)\n",
    "print(occupancy_df)\n",
    "\n",
    "def plot_occupancy_bar_graph(df):\n",
    "    occupancy_counts = df['Occupancy'].value_counts()\n",
    "\n",
    "    # Plot the bar graph\n",
    "    plt.figure(figsize=(10, 6))\n",
    "    sns.barplot(x=occupancy_counts.index, y=occupancy_counts.values, hue=occupancy_counts.index, palette=\"viridis\", dodge=False)\n",
    "    plt.title('Count of Occupancy')\n",
    "    plt.xlabel('Occupancy')\n",
    "    plt.ylabel('Participants')\n",
    "    plt.tight_layout()\n",
    "\n",
    "    # Save the bar chart to the 'charts' subfolder\n",
    "    plt.savefig(os.path.join('survey-charts', 'occupancy_bar_chart.png'))\n",
    "\n",
    "    plt.show()\n",
    "\n",
    "plot_occupancy_bar_graph(occupancy_df)"
   ]
  },
  {
   "cell_type": "markdown",
   "metadata": {},
   "source": [
    "### Activity\n",
    "\n",
    "**Q:** _On average, how often do you use Lab42 per week for various activities?_"
   ]
  },
  {
   "cell_type": "code",
   "execution_count": 113,
   "metadata": {},
   "outputs": [
    {
     "name": "stdout",
     "output_type": "stream",
     "text": [
      "        Activity\n",
      "0   1 day a week\n",
      "1  4 days a week\n",
      "2  4 days a week\n",
      "3  2 days a week\n",
      "4   1 day a week\n",
      "5  3 days a week\n",
      "6  5 days a week\n",
      "7  4 days a week\n",
      "8   1 day a week\n"
     ]
    },
    {
     "data": {
      "image/png": "[encoded data removed]",
      "text/plain": [
       "<Figure size 1000x600 with 1 Axes>"
      ]
     },
     "metadata": {},
     "output_type": "display_data"
    }
   ],
   "source": [
    "data = import_csv(file)\n",
    "\n",
    "# Define the functions\n",
    "def extract_activity_answers(df):\n",
    "    # Select the 'Activity' column\n",
    "    activity_column = df['Activity']\n",
    "  \n",
    "    # Create a new DataFrame containing only the answers from the 'Activity' column\n",
    "    activity_df = pd.DataFrame(activity_column)\n",
    "\n",
    "    return activity_df\n",
    "\n",
    "activity_df = extract_activity_answers(data)\n",
    "print(activity_df)    \n",
    "\n",
    "def plot_activity_bar_graph(df):\n",
    "    activity_counts = df['Activity'].value_counts()\n",
    "\n",
    "    # Plot the bar graph\n",
    "    plt.figure(figsize=(10, 6))\n",
    "    sns.barplot(x=activity_counts.index, y=activity_counts.values, hue=activity_counts.index, palette=\"viridis\", dodge=False)\n",
    "    plt.title('Count of Activity')\n",
    "    plt.xlabel('Activity')\n",
    "    plt.ylabel('Participants')\n",
    "    plt.tight_layout()\n",
    "\n",
    "    # Save the bar chart to the 'charts' subfolder\n",
    "    plt.savefig(os.path.join('survey-charts', 'activity_bar_chart.png'))\n",
    "\n",
    "    plt.show()\n",
    "\n",
    "plot_activity_bar_graph(activity_df)"
   ]
  }
 ],
 "metadata": {
  "kernelspec": {
   "display_name": "Python 3",
   "language": "python",
   "name": "python3"
  },
  "language_info": {
   "codemirror_mode": {
    "name": "ipython",
    "version": 3
   },
   "file_extension": ".py",
   "mimetype": "text/x-python",
   "name": "python",
   "nbconvert_exporter": "python",
   "pygments_lexer": "ipython3",
   "version": "3.9.12"
  }
 },
 "nbformat": 4,
 "nbformat_minor": 2
}
